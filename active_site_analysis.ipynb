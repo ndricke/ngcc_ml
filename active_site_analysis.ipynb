{
 "cells": [
  {
   "cell_type": "markdown",
   "metadata": {},
   "source": [
    "What the paper may still need is a solid explanation of what generally makes a site active\n",
    "How do we say what the most typical active sites look like?\n",
    "Chemical intuition will come from thinking about properties of the graphs, so it may still be valuable to discuss the success of the classifier restricted to graph-based features to justify the use of QM\n",
    "We can also frame this within a discussion of what specific properties we typically see in the graph around the active sites\n",
    "RDKit fingerprints do address this approach, but problems with kekulization make them kind of annoying and they don't know how to abstract the important details from things that just happen to be common in our distribution\n",
    "\n",
    "Which questions about the graph would be worth answering?\n",
    "Could have a plots that show active vs inactive for various graph-based features\n",
    "Ortho, meta, para, further than 3\n",
    "RingEdge: ring_edge, embedded_ring, neither (sp3 or non-ring)\n",
    "\n",
    "Confusion matrices would be fine for binary features, but since these options are mutually exclusive there should be a better way to represent this. "
   ]
  },
  {
   "cell_type": "code",
   "execution_count": 1,
   "metadata": {},
   "outputs": [],
   "source": [
    "import pandas as pd\n",
    "import numpy as np\n",
    "\n",
    "import matplotlib.pyplot as plt\n",
    "from matplotlib import rc\n",
    "from matplotlib.ticker import MaxNLocator\n",
    "plt.rcParams.update({'font.size': 20})\n",
    "\n",
    "# Preprocessing\n",
    "from sklearn.model_selection import train_test_split\n",
    "from sklearn.model_selection import GroupShuffleSplit\n",
    "from sklearn.preprocessing import OneHotEncoder\n",
    "from sklearn.preprocessing import StandardScaler\n",
    "from sklearn.preprocessing import PolynomialFeatures\n",
    "\n",
    "# Classifiers\n",
    "from sklearn.linear_model import LogisticRegression\n",
    "from sklearn.ensemble import RandomForestClassifier\n",
    "from sklearn.neural_network import MLPClassifier\n",
    "from sklearn.svm import SVC\n",
    "from sklearn.gaussian_process import GaussianProcessClassifier\n",
    "\n",
    "# Data Analysis\n",
    "from sklearn.model_selection import cross_val_score\n",
    "from sklearn.metrics import confusion_matrix\n",
    "\n",
    "plt.rcParams.update({'font.size': 20})\n",
    "import seaborn as sns"
   ]
  },
  {
   "cell_type": "code",
   "execution_count": 2,
   "metadata": {},
   "outputs": [],
   "source": [
    "from ngcc_ml import data_tools"
   ]
  },
  {
   "cell_type": "code",
   "execution_count": 3,
   "metadata": {},
   "outputs": [],
   "source": [
    "df = pd.read_csv(\"/home/nricke/work/ngcc_ml/DidItBindv5.csv\", index_col=0)"
   ]
  },
  {
   "cell_type": "code",
   "execution_count": 4,
   "metadata": {
    "scrolled": true
   },
   "outputs": [
    {
     "name": "stdout",
     "output_type": "stream",
     "text": [
      "Index(['Atom Number', 'Catalyst Name', 'CatalystO2File', 'Element',\n",
      "       'SpinDensity', 'ChElPGPositiveCharge', 'ChElPGNeutralCharge',\n",
      "       'ChargeDifference', 'Doesitbind', 'BondLength', 'IonizedFreeEnergy',\n",
      "       'IonizationEnergy', 'BindingEnergy', 'NeutralFreeEnergy', 'OrthoOrPara',\n",
      "       'Meta', 'FartherThanPara', 'DistanceToN', 'AverageBondLength',\n",
      "       'BondLengthRange', 'NumberOfHydrogens', 'AromaticSize', 'IsInRingSize6',\n",
      "       'IsInRingSize5', 'NeighborSpinDensity', 'NeighborChElPGCharge',\n",
      "       'NeighborChargeDifference', 'AromaticExtent', 'RingEdge',\n",
      "       'NumNitrogens', 'NumHeteroatoms', 'ring_nitrogens',\n",
      "       'atom_plane_deviation', 'ring_plane_deviation', 'charge'],\n",
      "      dtype='object')\n"
     ]
    }
   ],
   "source": [
    "print(df.columns)"
   ]
  },
  {
   "cell_type": "code",
   "execution_count": 5,
   "metadata": {},
   "outputs": [],
   "source": [
    "df = df[df[\"Catalyst Name\"] != \"sf7x0\"]"
   ]
  },
  {
   "cell_type": "code",
   "execution_count": 6,
   "metadata": {},
   "outputs": [
    {
     "data": {
      "text/html": [
       "<div>\n",
       "<style scoped>\n",
       "    .dataframe tbody tr th:only-of-type {\n",
       "        vertical-align: middle;\n",
       "    }\n",
       "\n",
       "    .dataframe tbody tr th {\n",
       "        vertical-align: top;\n",
       "    }\n",
       "\n",
       "    .dataframe thead th {\n",
       "        text-align: right;\n",
       "    }\n",
       "</style>\n",
       "<table border=\"1\" class=\"dataframe\">\n",
       "  <thead>\n",
       "    <tr style=\"text-align: right;\">\n",
       "      <th></th>\n",
       "      <th>Atom Number</th>\n",
       "      <th>Catalyst Name</th>\n",
       "      <th>CatalystO2File</th>\n",
       "      <th>Doesitbind</th>\n",
       "    </tr>\n",
       "  </thead>\n",
       "  <tbody>\n",
       "    <tr>\n",
       "      <th>2759</th>\n",
       "      <td>1</td>\n",
       "      <td>sf268x0</td>\n",
       "      <td>sf268x0O2-0_optsp_a0m2.out</td>\n",
       "      <td>False</td>\n",
       "    </tr>\n",
       "    <tr>\n",
       "      <th>2760</th>\n",
       "      <td>2</td>\n",
       "      <td>sf268x0</td>\n",
       "      <td>None</td>\n",
       "      <td>False</td>\n",
       "    </tr>\n",
       "    <tr>\n",
       "      <th>2761</th>\n",
       "      <td>3</td>\n",
       "      <td>sf268x0</td>\n",
       "      <td>sf268x0O2-2_optsp_a0m2.out</td>\n",
       "      <td>False</td>\n",
       "    </tr>\n",
       "    <tr>\n",
       "      <th>2762</th>\n",
       "      <td>4</td>\n",
       "      <td>sf268x0</td>\n",
       "      <td>sf268x0O2-3_optsp_a0m2.out</td>\n",
       "      <td>False</td>\n",
       "    </tr>\n",
       "    <tr>\n",
       "      <th>2763</th>\n",
       "      <td>5</td>\n",
       "      <td>sf268x0</td>\n",
       "      <td>sf268x0O2-4_optsp_a0m2.out</td>\n",
       "      <td>False</td>\n",
       "    </tr>\n",
       "    <tr>\n",
       "      <th>2764</th>\n",
       "      <td>6</td>\n",
       "      <td>sf268x0</td>\n",
       "      <td>None</td>\n",
       "      <td>False</td>\n",
       "    </tr>\n",
       "    <tr>\n",
       "      <th>2765</th>\n",
       "      <td>7</td>\n",
       "      <td>sf268x0</td>\n",
       "      <td>None</td>\n",
       "      <td>False</td>\n",
       "    </tr>\n",
       "    <tr>\n",
       "      <th>2766</th>\n",
       "      <td>8</td>\n",
       "      <td>sf268x0</td>\n",
       "      <td>sf268x0O2-7_optsp_a0m2.out</td>\n",
       "      <td>False</td>\n",
       "    </tr>\n",
       "    <tr>\n",
       "      <th>2767</th>\n",
       "      <td>9</td>\n",
       "      <td>sf268x0</td>\n",
       "      <td>sf268x0O2-8_optsp_a0m2.out</td>\n",
       "      <td>False</td>\n",
       "    </tr>\n",
       "    <tr>\n",
       "      <th>2768</th>\n",
       "      <td>11</td>\n",
       "      <td>sf268x0</td>\n",
       "      <td>sf268x0O2-10_optsp_a0m2.out</td>\n",
       "      <td>False</td>\n",
       "    </tr>\n",
       "    <tr>\n",
       "      <th>2769</th>\n",
       "      <td>12</td>\n",
       "      <td>sf268x0</td>\n",
       "      <td>None</td>\n",
       "      <td>False</td>\n",
       "    </tr>\n",
       "    <tr>\n",
       "      <th>2770</th>\n",
       "      <td>13</td>\n",
       "      <td>sf268x0</td>\n",
       "      <td>sf268x0O2-12_optsp_a0m2.out</td>\n",
       "      <td>False</td>\n",
       "    </tr>\n",
       "    <tr>\n",
       "      <th>2771</th>\n",
       "      <td>14</td>\n",
       "      <td>sf268x0</td>\n",
       "      <td>None</td>\n",
       "      <td>False</td>\n",
       "    </tr>\n",
       "    <tr>\n",
       "      <th>2772</th>\n",
       "      <td>15</td>\n",
       "      <td>sf268x0</td>\n",
       "      <td>None</td>\n",
       "      <td>False</td>\n",
       "    </tr>\n",
       "    <tr>\n",
       "      <th>2773</th>\n",
       "      <td>16</td>\n",
       "      <td>sf268x0</td>\n",
       "      <td>None</td>\n",
       "      <td>False</td>\n",
       "    </tr>\n",
       "    <tr>\n",
       "      <th>2774</th>\n",
       "      <td>17</td>\n",
       "      <td>sf268x0</td>\n",
       "      <td>sf268x0O2-16_optsp_a0m2.out</td>\n",
       "      <td>False</td>\n",
       "    </tr>\n",
       "    <tr>\n",
       "      <th>2775</th>\n",
       "      <td>18</td>\n",
       "      <td>sf268x0</td>\n",
       "      <td>None</td>\n",
       "      <td>False</td>\n",
       "    </tr>\n",
       "    <tr>\n",
       "      <th>2776</th>\n",
       "      <td>19</td>\n",
       "      <td>sf268x0</td>\n",
       "      <td>None</td>\n",
       "      <td>False</td>\n",
       "    </tr>\n",
       "    <tr>\n",
       "      <th>2777</th>\n",
       "      <td>20</td>\n",
       "      <td>sf268x0</td>\n",
       "      <td>sf268x0O2-19_optsp_a0m2.out</td>\n",
       "      <td>False</td>\n",
       "    </tr>\n",
       "    <tr>\n",
       "      <th>2778</th>\n",
       "      <td>21</td>\n",
       "      <td>sf268x0</td>\n",
       "      <td>sf268x0O2-20_optsp_a0m2.out</td>\n",
       "      <td>False</td>\n",
       "    </tr>\n",
       "    <tr>\n",
       "      <th>2779</th>\n",
       "      <td>22</td>\n",
       "      <td>sf268x0</td>\n",
       "      <td>sf268x0O2-21_optsp_a0m2.out</td>\n",
       "      <td>False</td>\n",
       "    </tr>\n",
       "    <tr>\n",
       "      <th>2780</th>\n",
       "      <td>23</td>\n",
       "      <td>sf268x0</td>\n",
       "      <td>None</td>\n",
       "      <td>False</td>\n",
       "    </tr>\n",
       "    <tr>\n",
       "      <th>2781</th>\n",
       "      <td>24</td>\n",
       "      <td>sf268x0</td>\n",
       "      <td>None</td>\n",
       "      <td>False</td>\n",
       "    </tr>\n",
       "    <tr>\n",
       "      <th>2782</th>\n",
       "      <td>25</td>\n",
       "      <td>sf268x0</td>\n",
       "      <td>sf268x0O2-24_optsp_a0m2.out</td>\n",
       "      <td>True</td>\n",
       "    </tr>\n",
       "    <tr>\n",
       "      <th>2783</th>\n",
       "      <td>26</td>\n",
       "      <td>sf268x0</td>\n",
       "      <td>None</td>\n",
       "      <td>False</td>\n",
       "    </tr>\n",
       "  </tbody>\n",
       "</table>\n",
       "</div>"
      ],
      "text/plain": [
       "      Atom Number Catalyst Name               CatalystO2File  Doesitbind\n",
       "2759            1       sf268x0   sf268x0O2-0_optsp_a0m2.out       False\n",
       "2760            2       sf268x0                         None       False\n",
       "2761            3       sf268x0   sf268x0O2-2_optsp_a0m2.out       False\n",
       "2762            4       sf268x0   sf268x0O2-3_optsp_a0m2.out       False\n",
       "2763            5       sf268x0   sf268x0O2-4_optsp_a0m2.out       False\n",
       "2764            6       sf268x0                         None       False\n",
       "2765            7       sf268x0                         None       False\n",
       "2766            8       sf268x0   sf268x0O2-7_optsp_a0m2.out       False\n",
       "2767            9       sf268x0   sf268x0O2-8_optsp_a0m2.out       False\n",
       "2768           11       sf268x0  sf268x0O2-10_optsp_a0m2.out       False\n",
       "2769           12       sf268x0                         None       False\n",
       "2770           13       sf268x0  sf268x0O2-12_optsp_a0m2.out       False\n",
       "2771           14       sf268x0                         None       False\n",
       "2772           15       sf268x0                         None       False\n",
       "2773           16       sf268x0                         None       False\n",
       "2774           17       sf268x0  sf268x0O2-16_optsp_a0m2.out       False\n",
       "2775           18       sf268x0                         None       False\n",
       "2776           19       sf268x0                         None       False\n",
       "2777           20       sf268x0  sf268x0O2-19_optsp_a0m2.out       False\n",
       "2778           21       sf268x0  sf268x0O2-20_optsp_a0m2.out       False\n",
       "2779           22       sf268x0  sf268x0O2-21_optsp_a0m2.out       False\n",
       "2780           23       sf268x0                         None       False\n",
       "2781           24       sf268x0                         None       False\n",
       "2782           25       sf268x0  sf268x0O2-24_optsp_a0m2.out        True\n",
       "2783           26       sf268x0                         None       False"
      ]
     },
     "execution_count": 6,
     "metadata": {},
     "output_type": "execute_result"
    }
   ],
   "source": [
    "df[df[\"Catalyst Name\"] == \"sf268x0\"][[\"Atom Number\", \"Catalyst Name\", \"CatalystO2File\", \"Doesitbind\"]]"
   ]
  },
  {
   "cell_type": "code",
   "execution_count": 7,
   "metadata": {},
   "outputs": [],
   "source": [
    "df_active = df[df[\"Doesitbind\"] == 1]"
   ]
  },
  {
   "cell_type": "code",
   "execution_count": 8,
   "metadata": {},
   "outputs": [],
   "source": [
    "df_inactive = df[df[\"Doesitbind\"] == 0]"
   ]
  },
  {
   "cell_type": "code",
   "execution_count": 9,
   "metadata": {},
   "outputs": [],
   "source": [
    "RingEdge_inactive = dict(df_inactive[\"RingEdge\"].value_counts())\n",
    "RingEdge_active = dict(df_active[\"RingEdge\"].value_counts())"
   ]
  },
  {
   "cell_type": "code",
   "execution_count": 10,
   "metadata": {},
   "outputs": [],
   "source": [
    "# need % values to plot\n",
    "rep = {}\n",
    "antirep = {}\n",
    "for key in RingEdge_active.keys():\n",
    "    rep[key] = 100*RingEdge_active[key] / (RingEdge_active[key] + RingEdge_inactive[key])\n",
    "    antirep[key] = 100 - rep[key]"
   ]
  },
  {
   "cell_type": "code",
   "execution_count": 11,
   "metadata": {},
   "outputs": [
    {
     "data": {
      "text/plain": [
       "{2: 25.29212212589521, 1: 6.602768903088392, 0: 1.092896174863388}"
      ]
     },
     "execution_count": 11,
     "metadata": {},
     "output_type": "execute_result"
    }
   ],
   "source": [
    "rep"
   ]
  },
  {
   "cell_type": "code",
   "execution_count": 12,
   "metadata": {},
   "outputs": [
    {
     "data": {
      "text/plain": [
       "1    417\n",
       "3    238\n",
       "2     71\n",
       "5      9\n",
       "4      3\n",
       "7      1\n",
       "Name: DistanceToN, dtype: int64"
      ]
     },
     "execution_count": 12,
     "metadata": {},
     "output_type": "execute_result"
    }
   ],
   "source": [
    "df_active[\"DistanceToN\"].value_counts()"
   ]
  },
  {
   "cell_type": "code",
   "execution_count": 13,
   "metadata": {},
   "outputs": [
    {
     "data": {
      "text/plain": [
       "2     1139\n",
       "3      657\n",
       "1      620\n",
       "4      443\n",
       "5      243\n",
       "6      114\n",
       "7       60\n",
       "8       31\n",
       "9       19\n",
       "10      14\n",
       "12      11\n",
       "11      10\n",
       "13       8\n",
       "14       8\n",
       "15       5\n",
       "16       5\n",
       "18       2\n",
       "17       2\n",
       "23       1\n",
       "26       1\n",
       "20       1\n",
       "22       1\n",
       "24       1\n",
       "21       1\n",
       "28       1\n",
       "27       1\n",
       "25       1\n",
       "19       1\n",
       "29       1\n",
       "Name: DistanceToN, dtype: int64"
      ]
     },
     "execution_count": 13,
     "metadata": {},
     "output_type": "execute_result"
    }
   ],
   "source": [
    "df_inactive[\"DistanceToN\"].value_counts()"
   ]
  },
  {
   "cell_type": "code",
   "execution_count": 14,
   "metadata": {},
   "outputs": [],
   "source": [
    "df_plot = df.copy()\n",
    "df_plot.rename(columns={\"Doesitbind\": \"Active Site\"}, inplace=True)"
   ]
  },
  {
   "cell_type": "code",
   "execution_count": 15,
   "metadata": {},
   "outputs": [
    {
     "data": {
      "image/png": "[encoded data removed]",
      "text/plain": [
       "<Figure size 698.75x576 with 1 Axes>"
      ]
     },
     "metadata": {
      "needs_background": "light"
     },
     "output_type": "display_data"
    }
   ],
   "source": [
    "\n",
    "sns_plot = sns.displot(df_plot, x=\"AromaticExtent\", hue=\"Active Site\", stat=\"density\", common_norm=False,\n",
    "           height=8)\n",
    "sns_plot.savefig(\"AromaticExtent_snsdisplot.png\")"
   ]
  },
  {
   "cell_type": "code",
   "execution_count": 16,
   "metadata": {},
   "outputs": [
    {
     "data": {
      "text/plain": [
       "(array([543.,   0.,   0.,   0.,   0.,   0., 251.,   0.,   0.,   0.,   9.,\n",
       "        189.,   0.,  95.,   0.,  56., 888.,  55.,  30.,  95., 383.,  29.,\n",
       "          0.,  51., 100., 223.,  67.,  92.,  45., 201.]),\n",
       " array([ 0.        ,  0.86666667,  1.73333333,  2.6       ,  3.46666667,\n",
       "         4.33333333,  5.2       ,  6.06666667,  6.93333333,  7.8       ,\n",
       "         8.66666667,  9.53333333, 10.4       , 11.26666667, 12.13333333,\n",
       "        13.        , 13.86666667, 14.73333333, 15.6       , 16.46666667,\n",
       "        17.33333333, 18.2       , 19.06666667, 19.93333333, 20.8       ,\n",
       "        21.66666667, 22.53333333, 23.4       , 24.26666667, 25.13333333,\n",
       "        26.        ]),\n",
       " <BarContainer object of 30 artists>)"
      ]
     },
     "execution_count": 16,
     "metadata": {},
     "output_type": "execute_result"
    },
    {
     "data": {
      "image/png": "[encoded data removed]",
      "text/plain": [
       "<Figure size 432x288 with 1 Axes>"
      ]
     },
     "metadata": {
      "needs_background": "light"
     },
     "output_type": "display_data"
    }
   ],
   "source": [
    "plt.hist(df_inactive[\"AromaticExtent\"], bins=30)"
   ]
  },
  {
   "cell_type": "code",
   "execution_count": 17,
   "metadata": {},
   "outputs": [
    {
     "data": {
      "text/plain": [
       "1    358\n",
       "0    182\n",
       "Name: Doesitbind, dtype: int64"
      ]
     },
     "execution_count": 17,
     "metadata": {},
     "output_type": "execute_result"
    }
   ],
   "source": [
    "df[(df[\"DistanceToN\"] == 1) & (df[\"RingEdge\"] == 2)][\"Doesitbind\"].astype(int).value_counts()"
   ]
  },
  {
   "cell_type": "code",
   "execution_count": 18,
   "metadata": {},
   "outputs": [
    {
     "data": {
      "text/plain": [
       "0.662962962962963"
      ]
     },
     "execution_count": 18,
     "metadata": {},
     "output_type": "execute_result"
    }
   ],
   "source": [
    "358/(358+182)"
   ]
  },
  {
   "cell_type": "code",
   "execution_count": 19,
   "metadata": {},
   "outputs": [
    {
     "name": "stdout",
     "output_type": "stream",
     "text": [
      "{2: 1139, 3: 657, 1: 620, 4: 443, 5: 243, 6: 300}\n",
      "300\n"
     ]
    }
   ],
   "source": [
    "dtn_inact = dict(df_inactive[df_inactive[\"DistanceToN\"] <= 5][\"DistanceToN\"].value_counts())\n",
    "gt5_inact = df_inactive[df_inactive[\"DistanceToN\"] > 5][\"DistanceToN\"].value_counts().sum()\n",
    "dtn_inact[6] = gt5_inact\n",
    "print(dtn_inact)\n",
    "print(gt5_inact)"
   ]
  },
  {
   "cell_type": "code",
   "execution_count": 20,
   "metadata": {},
   "outputs": [
    {
     "name": "stdout",
     "output_type": "stream",
     "text": [
      "{1: 417, 3: 238, 2: 71, 5: 9, 4: 3, 6: 1}\n"
     ]
    }
   ],
   "source": [
    "dtn_act = dict(df_active[df_active[\"DistanceToN\"] <= 5][\"DistanceToN\"].value_counts())\n",
    "gt5_act = df_active[df_active[\"DistanceToN\"] > 5][\"DistanceToN\"].value_counts().sum()\n",
    "dtn_act[6] = gt5_act\n",
    "print(dtn_act)"
   ]
  },
  {
   "cell_type": "code",
   "execution_count": 35,
   "metadata": {},
   "outputs": [],
   "source": [
    "def bar_grid(d_active, d_inactive, figname, xtick_input_labels=None, xlabel=\"\"):\n",
    "    rep = {}\n",
    "    antirep = {}\n",
    "    for key in d_active.keys():\n",
    "        rep[key] = 100*d_active[key] / (d_active[key] + d_inactive[key])\n",
    "        antirep[key] = 100 - rep[key]\n",
    "\n",
    "    fig = plt.figure(figsize=(7,10))\n",
    "    ax = plt.subplot(111)\n",
    "    plt.bar(rep.keys(), list(rep.values()), label=\"Active\", color=\"blue\")\n",
    "    plt.bar(rep.keys(), list(antirep.values()), bottom=list(rep.values()), label=\"Inactive\", color=\"red\")\n",
    "    ax.set_yticks([0,20,40,60,80,100])\n",
    "    ax.set_yticklabels([str(i)+\"%\" for i in [0,20,40,60,80,100]])\n",
    "    plt.legend(bbox_to_anchor=(1.05,1), loc=\"upper left\")\n",
    "    plt.ylim([0,100])\n",
    "    if xtick_input_labels == None:\n",
    "        ax.xaxis.set_major_locator(MaxNLocator(integer=True))\n",
    "    else:\n",
    "        #ax.set_xticks(np.arange(0, len(xtick_input_labels)))\n",
    "        ax.set_xticks(np.arange(1, len(xtick_input_labels)+1))\n",
    "        ax.set_xticklabels(xtick_input_labels)\n",
    "    #plt.show()\n",
    "    plt.xlabel(xlabel)\n",
    "    plt.savefig(figname, bbox_inches=\"tight\")"
   ]
  },
  {
   "cell_type": "code",
   "execution_count": 36,
   "metadata": {},
   "outputs": [
    {
     "data": {
      "image/png": "[encoded data removed]",
      "text/plain": [
       "<Figure size 504x720 with 1 Axes>"
      ]
     },
     "metadata": {
      "needs_background": "light"
     },
     "output_type": "display_data"
    }
   ],
   "source": [
    "bar_grid(dtn_act, dtn_inact, \"DistanceToN_stackbar.png\", xtick_input_labels=[\"1\",\"2\",\"3\",\"4\",\"5\",\">5\"], xlabel=\"Distance to Nearest Nitrogen\")"
   ]
  },
  {
   "cell_type": "code",
   "execution_count": 23,
   "metadata": {},
   "outputs": [
    {
     "data": {
      "text/plain": [
       "{0: 6, 1: 671, 2: 62}"
      ]
     },
     "execution_count": 23,
     "metadata": {},
     "output_type": "execute_result"
    }
   ],
   "source": [
    "shared_rings_active = {0:RingEdge_active[0], 1:RingEdge_active[2], 2:RingEdge_active[1]}\n",
    "shared_rings_inactive = {0:RingEdge_inactive[0], 1:RingEdge_inactive[2], 2:RingEdge_inactive[1]}\n",
    "shared_rings_active"
   ]
  },
  {
   "cell_type": "code",
   "execution_count": 24,
   "metadata": {},
   "outputs": [
    {
     "data": {
      "text/plain": [
       "{0: 543, 1: 1982, 2: 877}"
      ]
     },
     "execution_count": 24,
     "metadata": {},
     "output_type": "execute_result"
    }
   ],
   "source": [
    "shared_rings_inactive"
   ]
  },
  {
   "cell_type": "code",
   "execution_count": 25,
   "metadata": {},
   "outputs": [
    {
     "name": "stdout",
     "output_type": "stream",
     "text": [
      "0.01092896174863388\n",
      "0.2529212212589521\n",
      "0.06602768903088392\n"
     ]
    }
   ],
   "source": [
    "print(6/549)\n",
    "print(671/(671+1982))\n",
    "print(62/(62+877))"
   ]
  },
  {
   "cell_type": "code",
   "execution_count": 26,
   "metadata": {},
   "outputs": [
    {
     "name": "stdout",
     "output_type": "stream",
     "text": [
      "549\n",
      "2653\n",
      "939\n"
     ]
    }
   ],
   "source": [
    "print(549)\n",
    "print((671+1982))\n",
    "print((62+877))"
   ]
  },
  {
   "cell_type": "code",
   "execution_count": 30,
   "metadata": {},
   "outputs": [
    {
     "data": {
      "text/plain": [
       "{0: 6, 1: 671, 2: 62}"
      ]
     },
     "execution_count": 30,
     "metadata": {},
     "output_type": "execute_result"
    }
   ],
   "source": [
    "shared_rings_active"
   ]
  },
  {
   "cell_type": "code",
   "execution_count": 34,
   "metadata": {},
   "outputs": [
    {
     "data": {
      "image/png": "[encoded data removed]",
      "text/plain": [
       "<Figure size 504x720 with 1 Axes>"
      ]
     },
     "metadata": {
      "needs_background": "light"
     },
     "output_type": "display_data"
    }
   ],
   "source": [
    "bar_grid(shared_rings_active, shared_rings_inactive, \"SharedRings_stackbar.png\", xtick_input_labels=[\"0\",\"1\",\"2+\"], xlabel=\"Aromatic Ring Embedding Count\")"
   ]
  },
  {
   "cell_type": "code",
   "execution_count": 19,
   "metadata": {},
   "outputs": [
    {
     "data": {
      "text/plain": [
       "dict_values([25.29212212589521, 6.602768903088392, 1.092896174863388])"
      ]
     },
     "execution_count": 19,
     "metadata": {},
     "output_type": "execute_result"
    }
   ],
   "source": [
    "rep.values()"
   ]
  },
  {
   "cell_type": "code",
   "execution_count": 94,
   "metadata": {},
   "outputs": [],
   "source": [
    "from itertools import product"
   ]
  },
  {
   "cell_type": "code",
   "execution_count": 95,
   "metadata": {},
   "outputs": [],
   "source": [
    "abra = [[256, 512], [128, 256], [64, 128], [32], [16], [8]]"
   ]
  },
  {
   "cell_type": "code",
   "execution_count": 98,
   "metadata": {},
   "outputs": [
    {
     "name": "stdout",
     "output_type": "stream",
     "text": [
      "(256, 128, 64, 32, 16, 8)\n",
      "(256, 128, 128, 32, 16, 8)\n",
      "(256, 256, 64, 32, 16, 8)\n",
      "(256, 256, 128, 32, 16, 8)\n",
      "(512, 128, 64, 32, 16, 8)\n",
      "(512, 128, 128, 32, 16, 8)\n",
      "(512, 256, 64, 32, 16, 8)\n",
      "(512, 256, 128, 32, 16, 8)\n"
     ]
    },
    {
     "data": {
      "text/plain": [
       "[None, None, None, None, None, None, None, None]"
      ]
     },
     "execution_count": 98,
     "metadata": {},
     "output_type": "execute_result"
    }
   ],
   "source": [
    "[print(l) for l in product(*abra)]"
   ]
  },
  {
   "cell_type": "code",
   "execution_count": null,
   "metadata": {},
   "outputs": [],
   "source": []
  }
 ],
 "metadata": {
  "kernelspec": {
   "display_name": "Python 3",
   "language": "python",
   "name": "python3"
  },
  "language_info": {
   "codemirror_mode": {
    "name": "ipython",
    "version": 3
   },
   "file_extension": ".py",
   "mimetype": "text/x-python",
   "name": "python",
   "nbconvert_exporter": "python",
   "pygments_lexer": "ipython3",
   "version": "3.8.5"
  }
 },
 "nbformat": 4,
 "nbformat_minor": 2
}
