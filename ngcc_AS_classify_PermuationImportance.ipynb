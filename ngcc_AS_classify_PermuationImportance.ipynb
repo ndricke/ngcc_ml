{
 "cells": [
  {
   "cell_type": "markdown",
   "metadata": {},
   "source": [
    "1. Load mol objects and highlight sites that are being misclassified\n",
    "2. A lot of the false positives are tertiary carbon atoms with high spin. Tertiary carbon atoms don't usually do as well, but the model can't tell the difference between T-carbons embedded in rings or connected to methyl groups. This could deserve its own feature\n",
    "3. A lot of the false negatives are for small molecules with multiple nitrogen atoms. Correcting the aromatic ring size feature could potentially improve this. First check if the RDKit feature is trustworthy; if not, can just look for the full set of carbons with only 3 bonds, as these are necessarily sp2.\n",
    "4. The aromatic ring size features appears to be completely wrong, and I found at least one counterexample for OrthoOrPara. DistanceToN may obviate OrthoOrPara anyway\n",
    "5. sf189x0 has an active site at carbon 4 (binding energy -0.1eV), and a symmetric site at carbon 21 that is not active. This likely illustrates different conformers can subtely affect these energies\n",
    "6. Catalyst sf41x0 lists all binding sites as inactive, but some actually are (and possibly most). If I move the correct files to the correct directory, can I just rerun Kunal's parsing scripts?"
   ]
  },
  {
   "cell_type": "markdown",
   "metadata": {},
   "source": [
    "Score to beat: 95% w/ random forest on 10-fold cross validation\n",
    "Since 80% of sites are not active, the threshold for success is 80%"
   ]
  },
  {
   "cell_type": "code",
   "execution_count": 1,
   "metadata": {},
   "outputs": [],
   "source": [
    "import pandas as pd\n",
    "import numpy as np\n",
    "\n",
    "# Preprocessing\n",
    "from sklearn.model_selection import train_test_split\n",
    "from sklearn.model_selection import GroupShuffleSplit\n",
    "from sklearn.preprocessing import OneHotEncoder\n",
    "from sklearn.preprocessing import StandardScaler\n",
    "from sklearn.preprocessing import PolynomialFeatures\n",
    "from sklearn.model_selection import GroupKFold\n",
    "\n",
    "# Classifiers\n",
    "from sklearn.linear_model import LogisticRegression\n",
    "from sklearn.ensemble import RandomForestClassifier\n",
    "from sklearn.neural_network import MLPClassifier\n",
    "from sklearn.svm import SVC\n",
    "from sklearn.gaussian_process import GaussianProcessClassifier\n",
    "\n",
    "# Regression\n",
    "from sklearn.gaussian_process import GaussianProcessRegressor\n",
    "from sklearn.gaussian_process.kernels import RBF, ConstantKernel as C\n",
    "\n",
    "# Data Analysis\n",
    "from sklearn.model_selection import cross_val_score\n",
    "from sklearn.metrics import confusion_matrix\n",
    "from sklearn.inspection import permutation_importance\n",
    "\n",
    "import matplotlib.pyplot as plt\n",
    "plt.rcParams.update({'font.size': 16})\n",
    "\n",
    "from ngcc_ml import data_tools"
   ]
  },
  {
   "cell_type": "code",
   "execution_count": 6,
   "metadata": {},
   "outputs": [],
   "source": [
    "def processData(df_in, oneHotCols=[], scaledCols=[]):\n",
    "    df = df_in.copy()\n",
    "    scaler = StandardScaler()\n",
    "    oneHotEncoder = OneHotEncoder(categories = \"auto\", sparse = False)\n",
    "    if scaledCols != []:\n",
    "        df[scaledCols] = scaler.fit_transform(df[scaledCols])\n",
    "    #if oneHotCols != []:\n",
    "    #    df[encoded_columns] = oneHotEncoder.fit_transform(alldata[oneHotCols])\n",
    "    return df\n",
    "\n",
    "def group_split_evaluate(model, df_xy, feature_cols, target_col=\"Doesitbind\", n_splits=10, group_col=\"Catalyst Name\"):\n",
    "    all_scores = []\n",
    "    split_groups = GroupShuffleSplit(test_size=0.10, n_splits=n_splits, random_state = 7).split(df, groups=df[group_col])\n",
    "    for train_inds, test_inds in split_groups:\n",
    "        train = df_xy.iloc[train_inds]\n",
    "        test = df_xy.iloc[test_inds]\n",
    "        X_train_group = train[feature_cols]\n",
    "        X_test_group = test[feature_cols]\n",
    "        y_test_group = test[target_col]\n",
    "        y_train_group = train[target_col]\n",
    "        model.fit(X_train_group, y_train_group)\n",
    "        score = model.score(X_test_group, y_test_group)\n",
    "        all_scores.append(score)\n",
    "        print('Accuracy of RFC on test set: {:.2f}'.format(score))\n",
    "        print('Accuracy of RFC on training set: {:.2f}'.format(model.score(X_train_group, y_train_group)))\n",
    "    print(\"mean:\", np.mean(all_scores))\n",
    "    \n",
    "def group_kfold_evaluate(model, df_xy, feature_cols, target_col=\"Doesitbind\", n_splits=10, group_col=\"Catalyst Name\"):\n",
    "    all_scores, all_test_idxs, all_y_test_pred = [], [], []\n",
    "    all_perm_importance = []\n",
    "    split_groups = GroupKFold(n_splits=n_splits).split(df[feature_cols], df[target_col], df[group_col])\n",
    "    for train_inds, test_inds in split_groups:\n",
    "        train = df_xy.iloc[train_inds]\n",
    "        test = df_xy.iloc[test_inds]\n",
    "        X_train_group = train[feature_cols]\n",
    "        X_test_group = test[feature_cols]\n",
    "        y_test_group = test[target_col]\n",
    "        y_train_group = train[target_col]\n",
    "        model.fit(X_train_group, y_train_group)\n",
    "        score = model.score(X_test_group, y_test_group)\n",
    "        y_test_pred = model.predict(X_test_group)\n",
    "        perm_importance = permutation_importance(model, X_test_group, y_test_group, n_repeats=10)\n",
    "        all_test_idxs.append(test)\n",
    "        all_y_test_pred.append(y_test_pred)\n",
    "        all_scores.append(score)\n",
    "        all_perm_importance.append(perm_importance)\n",
    "        print('Accuracy of RFC on test set: {:.2f}'.format(score))\n",
    "        print('Accuracy of RFC on training set: {:.2f}'.format(model.score(X_train_group, y_train_group)))\n",
    "    print(\"mean:\", np.mean(all_scores))\n",
    "    print(\"stdev:\", np.std(all_scores))\n",
    "    return all_scores, all_test_idxs, all_y_test_pred, all_perm_importance"
   ]
  },
  {
   "cell_type": "code",
   "execution_count": 3,
   "metadata": {},
   "outputs": [],
   "source": [
    "df = pd.read_csv(\"/home/nricke/work/ngcc_ml/DidItBindv5.csv\", index_col=0)\n",
    "df = df[df[\"Catalyst Name\"] != \"sf7x0\"]"
   ]
  },
  {
   "cell_type": "code",
   "execution_count": 4,
   "metadata": {},
   "outputs": [],
   "source": [
    "feature_cols = [\"SpinDensity\", \"ChElPGNeutralCharge\", \"ChargeDifference\", \"IonizationEnergy\", \"OrthoOrPara\", \"Meta\", \"FartherThanPara\", \"DistanceToN\", \"NumberOfHydrogens\", \"IsInRingSize6\", \"IsInRingSize5\", \"NeighborSpinDensity\", 'NeighborChElPGCharge', 'NeighborChargeDifference', \"AromaticExtent\", \"RingEdge\", \"NumNitrogens\", \"NumHeteroatoms\", \"charge\", \"atom_plane_deviation\", \"ring_plane_deviation\", \"ring_nitrogens\"]\n",
    "#not_scaled_cols = [\"OrthoOrPara\", \"Meta\", \"FartherThanPara\", \"NumberOfHydrogens\", \"IsInRingSize6\", \"IsInRingSize5\", \"RingEdge\", \"NumNitrogens\", \"NumHeteroatoms\", \"ring_nitrogens\", \"charge\"]\n",
    "#df_scale = processData(df, scaledCols=list(feature_cols - not_scaled_cols))"
   ]
  },
  {
   "cell_type": "code",
   "execution_count": 34,
   "metadata": {},
   "outputs": [
    {
     "name": "stdout",
     "output_type": "stream",
     "text": [
      "Accuracy of RFC on test set: 0.94\n",
      "Accuracy of RFC on training set: 0.95\n",
      "Accuracy of RFC on test set: 0.93\n",
      "Accuracy of RFC on training set: 0.94\n",
      "Accuracy of RFC on test set: 0.91\n",
      "Accuracy of RFC on training set: 0.97\n",
      "Accuracy of RFC on test set: 0.94\n",
      "Accuracy of RFC on training set: 0.97\n",
      "Accuracy of RFC on test set: 0.95\n",
      "Accuracy of RFC on training set: 0.97\n",
      "Accuracy of RFC on test set: 0.95\n",
      "Accuracy of RFC on training set: 0.96\n",
      "Accuracy of RFC on test set: 0.93\n",
      "Accuracy of RFC on training set: 0.98\n",
      "Accuracy of RFC on test set: 0.95\n",
      "Accuracy of RFC on training set: 0.98\n",
      "Accuracy of RFC on test set: 0.94\n",
      "Accuracy of RFC on training set: 0.97\n",
      "Accuracy of RFC on test set: 0.94\n",
      "Accuracy of RFC on training set: 0.96\n",
      "mean: 0.938221916747666\n",
      "stdev: 0.012418968592172943\n"
     ]
    }
   ],
   "source": [
    "mlp = MLPClassifier(max_iter=35000, hidden_layer_sizes=(512, 256, 128, 16), learning_rate=\"adaptive\")\n",
    "gkf_scores, gkf_test_idxs, gkf_test_pred, gkf_permute = group_kfold_evaluate(mlp, df, feature_cols, \"Doesitbind\")"
   ]
  },
  {
   "cell_type": "code",
   "execution_count": 35,
   "metadata": {},
   "outputs": [
    {
     "name": "stdout",
     "output_type": "stream",
     "text": [
      "Accuracy of RFC on test set: 0.95\n",
      "Accuracy of RFC on training set: 0.97\n",
      "Accuracy of RFC on test set: 0.95\n",
      "Accuracy of RFC on training set: 0.96\n",
      "Accuracy of RFC on test set: 0.92\n",
      "Accuracy of RFC on training set: 0.98\n",
      "Accuracy of RFC on test set: 0.95\n",
      "Accuracy of RFC on training set: 0.98\n",
      "Accuracy of RFC on test set: 0.95\n",
      "Accuracy of RFC on training set: 0.97\n",
      "Accuracy of RFC on test set: 0.96\n",
      "Accuracy of RFC on training set: 0.97\n",
      "Accuracy of RFC on test set: 0.93\n",
      "Accuracy of RFC on training set: 0.97\n",
      "Accuracy of RFC on test set: 0.93\n",
      "Accuracy of RFC on training set: 0.98\n",
      "Accuracy of RFC on test set: 0.95\n",
      "Accuracy of RFC on training set: 0.97\n",
      "Accuracy of RFC on test set: 0.95\n",
      "Accuracy of RFC on training set: 0.97\n",
      "mean: 0.9432893205090529\n",
      "stdev: 0.011172748971835306\n"
     ]
    }
   ],
   "source": [
    "mlp = MLPClassifier(max_iter=35000, hidden_layer_sizes=(1024, 512, 128, 16), learning_rate=\"adaptive\")\n",
    "gkf_scores, gkf_test_idxs, gkf_test_pred, gkf_permute = group_kfold_evaluate(mlp, df, feature_cols, \"Doesitbind\")"
   ]
  },
  {
   "cell_type": "code",
   "execution_count": 9,
   "metadata": {},
   "outputs": [
    {
     "data": {
      "text/plain": [
       "0.012116237891298686"
      ]
     },
     "execution_count": 9,
     "metadata": {},
     "output_type": "execute_result"
    }
   ],
   "source": [
    "np.std(gkf_scores)"
   ]
  },
  {
   "cell_type": "code",
   "execution_count": 11,
   "metadata": {},
   "outputs": [
    {
     "name": "stdout",
     "output_type": "stream",
     "text": [
      "Accuracy of RFC on test set: 0.94\n",
      "Accuracy of RFC on training set: 0.92\n",
      "Accuracy of RFC on test set: 0.92\n",
      "Accuracy of RFC on training set: 0.92\n",
      "Accuracy of RFC on test set: 0.90\n",
      "Accuracy of RFC on training set: 0.93\n",
      "Accuracy of RFC on test set: 0.93\n",
      "Accuracy of RFC on training set: 0.92\n",
      "Accuracy of RFC on test set: 0.95\n",
      "Accuracy of RFC on training set: 0.92\n",
      "Accuracy of RFC on test set: 0.93\n",
      "Accuracy of RFC on training set: 0.92\n",
      "Accuracy of RFC on test set: 0.91\n",
      "Accuracy of RFC on training set: 0.92\n",
      "Accuracy of RFC on test set: 0.92\n",
      "Accuracy of RFC on training set: 0.92\n",
      "Accuracy of RFC on test set: 0.89\n",
      "Accuracy of RFC on training set: 0.93\n",
      "Accuracy of RFC on test set: 0.92\n",
      "Accuracy of RFC on training set: 0.92\n",
      "mean: 0.9206064643188137\n",
      "stdev: 0.01487633098752997\n"
     ]
    }
   ],
   "source": [
    "logreg = LogisticRegression(max_iter=10000)\n",
    "gkf_scores_lr, gkf_test_idxs_lr, gkf_test_pred_lr, gkf_permute_lr = group_kfold_evaluate(logreg, df, feature_cols, \"Doesitbind\")"
   ]
  },
  {
   "cell_type": "code",
   "execution_count": 12,
   "metadata": {},
   "outputs": [
    {
     "name": "stdout",
     "output_type": "stream",
     "text": [
      "Accuracy of RFC on test set: 0.95\n",
      "Accuracy of RFC on training set: 0.93\n",
      "Accuracy of RFC on test set: 0.94\n",
      "Accuracy of RFC on training set: 0.93\n",
      "Accuracy of RFC on test set: 0.90\n",
      "Accuracy of RFC on training set: 0.93\n",
      "Accuracy of RFC on test set: 0.93\n",
      "Accuracy of RFC on training set: 0.93\n",
      "Accuracy of RFC on test set: 0.95\n",
      "Accuracy of RFC on training set: 0.93\n",
      "Accuracy of RFC on test set: 0.93\n",
      "Accuracy of RFC on training set: 0.93\n",
      "Accuracy of RFC on test set: 0.91\n",
      "Accuracy of RFC on training set: 0.93\n",
      "Accuracy of RFC on test set: 0.93\n",
      "Accuracy of RFC on training set: 0.93\n",
      "Accuracy of RFC on test set: 0.89\n",
      "Accuracy of RFC on training set: 0.93\n",
      "Accuracy of RFC on test set: 0.93\n",
      "Accuracy of RFC on training set: 0.93\n",
      "mean: 0.9254258685774996\n",
      "stdev: 0.0170626955914305\n"
     ]
    }
   ],
   "source": [
    "svc = SVC(kernel=\"linear\")\n",
    "gkf_scores_svcl, gkf_test_idxs_svcl, gkf_test_pred_svcl, gkf_permute_svcl = group_kfold_evaluate(svc, df, feature_cols, \"Doesitbind\")"
   ]
  },
  {
   "cell_type": "code",
   "execution_count": 20,
   "metadata": {},
   "outputs": [
    {
     "name": "stdout",
     "output_type": "stream",
     "text": [
      "Accuracy of RFC on test set: 0.94\n",
      "Accuracy of RFC on training set: 0.94\n",
      "Accuracy of RFC on test set: 0.94\n",
      "Accuracy of RFC on training set: 0.94\n",
      "Accuracy of RFC on test set: 0.91\n",
      "Accuracy of RFC on training set: 0.94\n",
      "Accuracy of RFC on test set: 0.94\n",
      "Accuracy of RFC on training set: 0.94\n",
      "Accuracy of RFC on test set: 0.94\n",
      "Accuracy of RFC on training set: 0.94\n",
      "Accuracy of RFC on test set: 0.93\n",
      "Accuracy of RFC on training set: 0.94\n",
      "Accuracy of RFC on test set: 0.93\n",
      "Accuracy of RFC on training set: 0.94\n",
      "Accuracy of RFC on test set: 0.95\n",
      "Accuracy of RFC on training set: 0.94\n",
      "Accuracy of RFC on test set: 0.93\n",
      "Accuracy of RFC on training set: 0.94\n",
      "Accuracy of RFC on test set: 0.92\n",
      "Accuracy of RFC on training set: 0.94\n",
      "mean: 0.9343359507448181\n",
      "stdev: 0.010951443996851839\n"
     ]
    }
   ],
   "source": [
    "svc_rb = SVC(kernel=\"rbf\", C=50.0)\n",
    "gkf_scores, gkf_test_idxs, gkf_test_pred, gkf_permute = group_kfold_evaluate(svc_rb, df, feature_cols, \"Doesitbind\")"
   ]
  },
  {
   "cell_type": "code",
   "execution_count": 25,
   "metadata": {},
   "outputs": [],
   "source": [
    "from sklearn.tree import DecisionTreeClassifier"
   ]
  },
  {
   "cell_type": "code",
   "execution_count": 33,
   "metadata": {},
   "outputs": [
    {
     "name": "stdout",
     "output_type": "stream",
     "text": [
      "Accuracy of RFC on test set: 0.90\n",
      "Accuracy of RFC on training set: 0.96\n",
      "Accuracy of RFC on test set: 0.93\n",
      "Accuracy of RFC on training set: 0.96\n",
      "Accuracy of RFC on test set: 0.92\n",
      "Accuracy of RFC on training set: 0.96\n",
      "Accuracy of RFC on test set: 0.91\n",
      "Accuracy of RFC on training set: 0.96\n",
      "Accuracy of RFC on test set: 0.93\n",
      "Accuracy of RFC on training set: 0.96\n",
      "Accuracy of RFC on test set: 0.94\n",
      "Accuracy of RFC on training set: 0.96\n",
      "Accuracy of RFC on test set: 0.91\n",
      "Accuracy of RFC on training set: 0.96\n",
      "Accuracy of RFC on test set: 0.92\n",
      "Accuracy of RFC on training set: 0.96\n",
      "Accuracy of RFC on test set: 0.91\n",
      "Accuracy of RFC on training set: 0.96\n",
      "Accuracy of RFC on test set: 0.94\n",
      "Accuracy of RFC on training set: 0.96\n",
      "mean: 0.922272683604964\n",
      "stdev: 0.013457928736444908\n"
     ]
    }
   ],
   "source": [
    "decide = DecisionTreeClassifier(max_depth=7)\n",
    "gkf_scores, gkf_test_idxs, gkf_test_pred, gkf_permute = group_kfold_evaluate(decide, df, feature_cols, \"Doesitbind\")"
   ]
  },
  {
   "cell_type": "code",
   "execution_count": 29,
   "metadata": {},
   "outputs": [
    {
     "name": "stdout",
     "output_type": "stream",
     "text": [
      "Accuracy of RFC on test set: 0.90\n",
      "Accuracy of RFC on training set: 1.00\n",
      "Accuracy of RFC on test set: 0.94\n",
      "Accuracy of RFC on training set: 1.00\n",
      "Accuracy of RFC on test set: 0.91\n",
      "Accuracy of RFC on training set: 1.00\n",
      "Accuracy of RFC on test set: 0.92\n",
      "Accuracy of RFC on training set: 1.00\n",
      "Accuracy of RFC on test set: 0.94\n",
      "Accuracy of RFC on training set: 1.00\n",
      "Accuracy of RFC on test set: 0.93\n",
      "Accuracy of RFC on training set: 1.00\n",
      "Accuracy of RFC on test set: 0.91\n",
      "Accuracy of RFC on training set: 1.00\n",
      "Accuracy of RFC on test set: 0.91\n",
      "Accuracy of RFC on training set: 1.00\n",
      "Accuracy of RFC on test set: 0.91\n",
      "Accuracy of RFC on training set: 1.00\n",
      "Accuracy of RFC on test set: 0.93\n",
      "Accuracy of RFC on training set: 1.00\n",
      "mean: 0.91939278690748\n",
      "stdev: 0.013848792719331112\n"
     ]
    }
   ],
   "source": [
    "decide = DecisionTreeClassifier()\n",
    "gkf_scores, gkf_test_idxs, gkf_test_pred, gkf_permute = group_kfold_evaluate(decide, df, feature_cols, \"Doesitbind\")"
   ]
  },
  {
   "cell_type": "code",
   "execution_count": 5,
   "metadata": {},
   "outputs": [
    {
     "name": "stdout",
     "output_type": "stream",
     "text": [
      "Accuracy of RFC on test set: 0.96\n",
      "Accuracy of RFC on training set: 1.00\n",
      "Accuracy of RFC on test set: 0.95\n",
      "Accuracy of RFC on training set: 1.00\n",
      "Accuracy of RFC on test set: 0.94\n",
      "Accuracy of RFC on training set: 1.00\n",
      "Accuracy of RFC on test set: 0.95\n",
      "Accuracy of RFC on training set: 1.00\n",
      "Accuracy of RFC on test set: 0.97\n",
      "Accuracy of RFC on training set: 1.00\n",
      "Accuracy of RFC on test set: 0.95\n",
      "Accuracy of RFC on training set: 1.00\n",
      "Accuracy of RFC on test set: 0.95\n",
      "Accuracy of RFC on training set: 1.00\n",
      "Accuracy of RFC on test set: 0.95\n",
      "Accuracy of RFC on training set: 1.00\n",
      "Accuracy of RFC on test set: 0.93\n",
      "Accuracy of RFC on training set: 1.00\n",
      "Accuracy of RFC on test set: 0.95\n",
      "Accuracy of RFC on training set: 1.00\n",
      "mean: 0.950530160039784\n"
     ]
    }
   ],
   "source": [
    "rfc = RandomForestClassifier(n_estimators=1000, max_depth=100, class_weight={0:0.5, 1:0.5})\n",
    "gkf_scores, gkf_test_idxs, gkf_test_pred, gkf_permute = group_kfold_evaluate(rfc, df, feature_cols, \"Doesitbind\")"
   ]
  },
  {
   "cell_type": "code",
   "execution_count": 6,
   "metadata": {},
   "outputs": [
    {
     "data": {
      "text/plain": [
       "(22, 10)"
      ]
     },
     "execution_count": 6,
     "metadata": {},
     "output_type": "execute_result"
    }
   ],
   "source": [
    "gkf_permute[0].importances.shape"
   ]
  },
  {
   "cell_type": "code",
   "execution_count": 7,
   "metadata": {},
   "outputs": [
    {
     "data": {
      "text/plain": [
       "[{'importances_mean': array([ 0.02524038,  0.00673077,  0.03461538,  0.00384615,  0.01514423,\n",
       "         -0.00072115,  0.00240385,  0.00769231,  0.00216346,  0.00024038,\n",
       "          0.        ,  0.00048077,  0.00240385,  0.00528846,  0.003125  ,\n",
       "          0.01346154,  0.00024038,  0.        ,  0.        ,  0.00504808,\n",
       "          0.00552885,  0.00240385]),\n",
       "  'importances_std': array([0.00715119, 0.00336538, 0.00919766, 0.00390579, 0.00285441,\n",
       "         0.00153921, 0.00240385, 0.00336538, 0.00129451, 0.00072115,\n",
       "         0.        , 0.00318906, 0.00284427, 0.00453557, 0.00357357,\n",
       "         0.00506522, 0.00168269, 0.        , 0.        , 0.00250969,\n",
       "         0.00187746, 0.00215007]),\n",
       "  'importances': array([[ 0.01442308,  0.02644231,  0.02884615,  0.01442308,  0.02163462,\n",
       "           0.02884615,  0.01923077,  0.03365385,  0.03605769,  0.02884615],\n",
       "         [ 0.01201923,  0.00961538,  0.00480769,  0.00721154,  0.00721154,\n",
       "           0.00961538,  0.00961538,  0.00240385,  0.00240385,  0.00240385],\n",
       "         [ 0.02644231,  0.02884615,  0.03125   ,  0.02403846,  0.03846154,\n",
       "           0.04086538,  0.02403846,  0.05528846,  0.03846154,  0.03846154],\n",
       "         [-0.00240385,  0.00240385,  0.00480769,  0.00961538,  0.        ,\n",
       "           0.00721154,  0.        ,  0.00480769,  0.00961538,  0.00240385],\n",
       "         [ 0.01442308,  0.01682692,  0.01442308,  0.01442308,  0.01923077,\n",
       "           0.00961538,  0.01923077,  0.01442308,  0.01682692,  0.01201923],\n",
       "         [-0.00240385,  0.        ,  0.        ,  0.        ,  0.        ,\n",
       "          -0.00240385, -0.00240385, -0.00240385,  0.00240385,  0.        ],\n",
       "         [ 0.00240385,  0.00480769,  0.        ,  0.00240385,  0.00240385,\n",
       "           0.00480769,  0.00480769,  0.00480769, -0.00240385,  0.        ],\n",
       "         [ 0.        ,  0.00480769,  0.00961538,  0.01201923,  0.00480769,\n",
       "           0.00961538,  0.00961538,  0.00961538,  0.00721154,  0.00961538],\n",
       "         [ 0.00480769,  0.00240385,  0.00240385,  0.00240385,  0.00240385,\n",
       "           0.00240385,  0.00240385,  0.        ,  0.00240385,  0.        ],\n",
       "         [ 0.        ,  0.        ,  0.        ,  0.00240385,  0.        ,\n",
       "           0.        ,  0.        ,  0.        ,  0.        ,  0.        ],\n",
       "         [ 0.        ,  0.        ,  0.        ,  0.        ,  0.        ,\n",
       "           0.        ,  0.        ,  0.        ,  0.        ,  0.        ],\n",
       "         [-0.00240385,  0.        ,  0.00240385,  0.        , -0.00480769,\n",
       "           0.        ,  0.00721154,  0.00240385, -0.00240385,  0.00240385],\n",
       "         [ 0.00480769,  0.        , -0.00240385,  0.        ,  0.00240385,\n",
       "           0.00721154,  0.00480769,  0.        ,  0.00480769,  0.00240385],\n",
       "         [ 0.00721154,  0.00480769,  0.01442308,  0.00480769, -0.00240385,\n",
       "           0.        ,  0.00721154,  0.00480769,  0.00240385,  0.00961538],\n",
       "         [ 0.        ,  0.        ,  0.00480769,  0.00240385, -0.00240385,\n",
       "           0.00961538,  0.00480769,  0.00480769,  0.00721154,  0.        ],\n",
       "         [ 0.02403846,  0.01923077,  0.00480769,  0.01201923,  0.01442308,\n",
       "           0.00961538,  0.01442308,  0.01201923,  0.00961538,  0.01442308],\n",
       "         [-0.00240385,  0.        ,  0.00240385,  0.        ,  0.00240385,\n",
       "          -0.00240385,  0.00240385,  0.        ,  0.        ,  0.        ],\n",
       "         [ 0.        ,  0.        ,  0.        ,  0.        ,  0.        ,\n",
       "           0.        ,  0.        ,  0.        ,  0.        ,  0.        ],\n",
       "         [ 0.        ,  0.        ,  0.        ,  0.        ,  0.        ,\n",
       "           0.        ,  0.        ,  0.        ,  0.        ,  0.        ],\n",
       "         [ 0.00721154,  0.00480769,  0.00480769,  0.00721154,  0.        ,\n",
       "           0.00240385,  0.00721154,  0.00721154,  0.00721154,  0.00240385],\n",
       "         [ 0.00480769,  0.00480769,  0.00480769,  0.00721154,  0.00480769,\n",
       "           0.00480769,  0.00961538,  0.00480769,  0.00721154,  0.00240385],\n",
       "         [ 0.        ,  0.00240385,  0.        ,  0.00721154,  0.00240385,\n",
       "           0.00240385,  0.00240385,  0.00480769,  0.        ,  0.00240385]])},\n",
       " {'importances_mean': array([ 1.49038462e-02,  4.80769231e-04,  3.55769231e-02,  4.80769231e-03,\n",
       "          1.44230769e-03, -2.40384615e-04, -4.80769231e-04,  6.49038462e-03,\n",
       "         -1.68269231e-03, -1.20192308e-03,  0.00000000e+00, -4.80769231e-03,\n",
       "          2.40384615e-03, -3.60576923e-03, -7.21153846e-04,  7.69230769e-03,\n",
       "         -1.11022302e-17, -2.16346154e-03, -2.40384615e-04, -2.16346154e-03,\n",
       "         -1.92307692e-03, -4.80769231e-04]),\n",
       "  'importances_std': array([0.0049029 , 0.00336538, 0.00773725, 0.00416358, 0.00445847,\n",
       "         0.00168269, 0.00258902, 0.00110158, 0.00323404, 0.00120192,\n",
       "         0.        , 0.00107503, 0.00304065, 0.00161255, 0.0055912 ,\n",
       "         0.00384615, 0.00215007, 0.00199678, 0.00072115, 0.00072115,\n",
       "         0.00144231, 0.00235528]),\n",
       "  'importances': array([[ 0.01682692,  0.01923077,  0.00480769,  0.00721154,  0.01923077,\n",
       "           0.01682692,  0.01923077,  0.01682692,  0.01201923,  0.01682692],\n",
       "         [ 0.00240385,  0.00240385,  0.        , -0.00480769,  0.        ,\n",
       "           0.        ,  0.        ,  0.00240385,  0.00721154, -0.00480769],\n",
       "         [ 0.04086538,  0.04567308,  0.02403846,  0.03605769,  0.03605769,\n",
       "           0.04086538,  0.03365385,  0.03846154,  0.04086538,  0.01923077],\n",
       "         [ 0.00721154,  0.00721154,  0.00480769,  0.        , -0.00240385,\n",
       "           0.01201923,  0.        ,  0.00721154,  0.00721154,  0.00480769],\n",
       "         [-0.00240385,  0.00721154, -0.00480769,  0.00240385,  0.00480769,\n",
       "           0.00961538, -0.00240385, -0.00240385,  0.        ,  0.00240385],\n",
       "         [ 0.        ,  0.00240385, -0.00240385,  0.        ,  0.        ,\n",
       "           0.        , -0.00240385,  0.        ,  0.00240385, -0.00240385],\n",
       "         [ 0.00480769,  0.        , -0.00240385,  0.        ,  0.        ,\n",
       "          -0.00240385,  0.        , -0.00240385, -0.00480769,  0.00240385],\n",
       "         [ 0.00480769,  0.00721154,  0.00480769,  0.00721154,  0.00721154,\n",
       "           0.00721154,  0.00480769,  0.00721154,  0.00721154,  0.00721154],\n",
       "         [ 0.        ,  0.        , -0.00480769, -0.00240385, -0.00480769,\n",
       "          -0.00480769, -0.00240385, -0.00480769,  0.00240385,  0.00480769],\n",
       "         [ 0.        ,  0.        , -0.00240385,  0.        ,  0.        ,\n",
       "          -0.00240385, -0.00240385, -0.00240385, -0.00240385,  0.        ],\n",
       "         [ 0.        ,  0.        ,  0.        ,  0.        ,  0.        ,\n",
       "           0.        ,  0.        ,  0.        ,  0.        ,  0.        ],\n",
       "         [-0.00480769, -0.00240385, -0.00480769, -0.00480769, -0.00480769,\n",
       "          -0.00480769, -0.00480769, -0.00721154, -0.00480769, -0.00480769],\n",
       "         [ 0.00721154,  0.        , -0.00240385,  0.00240385,  0.00480769,\n",
       "           0.00240385,  0.00480769,  0.00240385,  0.00480769, -0.00240385],\n",
       "         [-0.00480769, -0.00480769, -0.00480769, -0.00240385, -0.00480769,\n",
       "          -0.00240385, -0.00480769, -0.00480769, -0.00240385,  0.        ],\n",
       "         [ 0.        ,  0.00721154,  0.00240385, -0.00240385,  0.00240385,\n",
       "           0.00480769, -0.01201923,  0.00240385, -0.00721154, -0.00480769],\n",
       "         [ 0.01442308,  0.00721154,  0.00480769,  0.00961538,  0.00961538,\n",
       "           0.00240385,  0.00480769,  0.00240385,  0.00961538,  0.01201923],\n",
       "         [-0.00480769, -0.00240385,  0.        ,  0.00240385,  0.        ,\n",
       "           0.        ,  0.00240385,  0.        ,  0.        ,  0.00240385],\n",
       "         [-0.00480769, -0.00240385, -0.00240385, -0.00240385, -0.00240385,\n",
       "          -0.00480769, -0.00240385,  0.00240385, -0.00240385,  0.        ],\n",
       "         [-0.00240385,  0.        ,  0.        ,  0.        ,  0.        ,\n",
       "           0.        ,  0.        ,  0.        ,  0.        ,  0.        ],\n",
       "         [ 0.        , -0.00240385, -0.00240385, -0.00240385, -0.00240385,\n",
       "          -0.00240385, -0.00240385, -0.00240385, -0.00240385, -0.00240385],\n",
       "         [-0.00240385, -0.00480769, -0.00240385, -0.00240385, -0.00240385,\n",
       "           0.        ,  0.        ,  0.        , -0.00240385, -0.00240385],\n",
       "         [ 0.00240385,  0.        ,  0.        ,  0.00240385,  0.00240385,\n",
       "          -0.00480769,  0.        , -0.00240385, -0.00240385, -0.00240385]])},\n",
       " {'importances_mean': array([ 0.03341346,  0.00120192,  0.04086538,  0.01634615,  0.01658654,\n",
       "          0.        ,  0.        ,  0.00769231,  0.00336538,  0.        ,\n",
       "          0.        ,  0.00336538, -0.00096154,  0.00384615,  0.00697115,\n",
       "          0.01274038,  0.00144231,  0.00144231,  0.        , -0.00096154,\n",
       "          0.00048077,  0.        ]),\n",
       "  'importances_std': array([0.00542332, 0.00246321, 0.00937192, 0.00336538, 0.00552885,\n",
       "         0.        , 0.        , 0.00535362, 0.00159453, 0.        ,\n",
       "         0.        , 0.00192308, 0.00220316, 0.00117764, 0.00408654,\n",
       "         0.00456731, 0.00117764, 0.00117764, 0.        , 0.00192308,\n",
       "         0.00209562, 0.        ]),\n",
       "  'importances': array([[ 0.03605769,  0.02884615,  0.04086538,  0.03365385,  0.04326923,\n",
       "           0.03125   ,  0.03605769,  0.02644231,  0.03125   ,  0.02644231],\n",
       "         [ 0.00240385,  0.        ,  0.00480769,  0.00240385, -0.00240385,\n",
       "           0.00480769,  0.        ,  0.        , -0.00240385,  0.00240385],\n",
       "         [ 0.06490385,  0.04086538,  0.04326923,  0.03605769,  0.03605769,\n",
       "           0.03605769,  0.04326923,  0.04567308,  0.03365385,  0.02884615],\n",
       "         [ 0.01923077,  0.01442308,  0.01682692,  0.01442308,  0.01201923,\n",
       "           0.00961538,  0.01923077,  0.01923077,  0.01923077,  0.01923077],\n",
       "         [ 0.02163462,  0.01923077,  0.01923077,  0.02163462,  0.01923077,\n",
       "           0.00721154,  0.02403846,  0.01201923,  0.00961538,  0.01201923],\n",
       "         [ 0.        ,  0.        ,  0.        ,  0.        ,  0.        ,\n",
       "           0.        ,  0.        ,  0.        ,  0.        ,  0.        ],\n",
       "         [ 0.        ,  0.        ,  0.        ,  0.        ,  0.        ,\n",
       "           0.        ,  0.        ,  0.        ,  0.        ,  0.        ],\n",
       "         [ 0.01682692,  0.01201923,  0.01442308,  0.00240385,  0.00961538,\n",
       "           0.        ,  0.00480769,  0.00961538,  0.00240385,  0.00480769],\n",
       "         [ 0.00240385,  0.00480769,  0.00480769,  0.00480769,  0.        ,\n",
       "           0.00480769,  0.00240385,  0.00240385,  0.00480769,  0.00240385],\n",
       "         [ 0.        ,  0.        ,  0.        ,  0.        ,  0.        ,\n",
       "           0.        ,  0.        ,  0.        ,  0.        ,  0.        ],\n",
       "         [ 0.        ,  0.        ,  0.        ,  0.        ,  0.        ,\n",
       "           0.        ,  0.        ,  0.        ,  0.        ,  0.        ],\n",
       "         [ 0.00240385,  0.00240385,  0.00480769,  0.00240385,  0.00240385,\n",
       "           0.        ,  0.00480769,  0.00480769,  0.00240385,  0.00721154],\n",
       "         [-0.00240385, -0.00240385,  0.00240385,  0.        ,  0.        ,\n",
       "           0.00240385, -0.00480769, -0.00240385, -0.00240385,  0.        ],\n",
       "         [ 0.00480769,  0.00240385,  0.00480769,  0.00480769,  0.00240385,\n",
       "           0.00480769,  0.00240385,  0.00240385,  0.00480769,  0.00480769],\n",
       "         [ 0.00240385,  0.01201923,  0.00721154,  0.00721154,  0.00721154,\n",
       "           0.01442308,  0.00480769,  0.        ,  0.00480769,  0.00961538],\n",
       "         [ 0.01201923,  0.00961538,  0.01201923,  0.01923077,  0.00961538,\n",
       "           0.00721154,  0.00721154,  0.01923077,  0.01923077,  0.01201923],\n",
       "         [ 0.        ,  0.00240385,  0.        ,  0.00240385,  0.        ,\n",
       "           0.00240385,  0.00240385,  0.        ,  0.00240385,  0.00240385],\n",
       "         [ 0.        ,  0.00240385,  0.        ,  0.00240385,  0.        ,\n",
       "           0.00240385,  0.00240385,  0.        ,  0.00240385,  0.00240385],\n",
       "         [ 0.        ,  0.        ,  0.        ,  0.        ,  0.        ,\n",
       "           0.        ,  0.        ,  0.        ,  0.        ,  0.        ],\n",
       "         [ 0.        ,  0.        ,  0.        , -0.00480769, -0.00240385,\n",
       "           0.00240385, -0.00240385, -0.00240385,  0.        ,  0.        ],\n",
       "         [ 0.        ,  0.00240385,  0.        ,  0.00240385, -0.00480769,\n",
       "           0.00240385,  0.00240385,  0.        ,  0.        ,  0.        ],\n",
       "         [ 0.        ,  0.        ,  0.        ,  0.        ,  0.        ,\n",
       "           0.        ,  0.        ,  0.        ,  0.        ,  0.        ]])},\n",
       " {'importances_mean': array([ 0.0204878 ,  0.00560976,  0.02804878,  0.01512195,  0.01512195,\n",
       "         -0.0004878 ,  0.00243902,  0.00829268,  0.00341463,  0.00073171,\n",
       "          0.        ,  0.00292683,  0.00536585,  0.00463415,  0.01414634,\n",
       "         -0.00170732, -0.0004878 ,  0.0002439 ,  0.        ,  0.00097561,\n",
       "         -0.0004878 ,  0.00097561]),\n",
       "  'importances_std': array([0.00867141, 0.00219512, 0.00773213, 0.00532132, 0.00564675,\n",
       "         0.00238975, 0.00188926, 0.00579236, 0.00312348, 0.0011177 ,\n",
       "         0.        , 0.00341463, 0.0018252 , 0.0027702 , 0.00358462,\n",
       "         0.00378638, 0.00146341, 0.00131345, 0.        , 0.00161787,\n",
       "         0.00146341, 0.00161787]),\n",
       "  'importances': array([[ 0.0195122 ,  0.03170732,  0.02195122,  0.00487805,  0.01463415,\n",
       "           0.0195122 ,  0.02926829,  0.01219512,  0.01707317,  0.03414634],\n",
       "         [ 0.00243902,  0.00731707,  0.0097561 ,  0.00487805,  0.00243902,\n",
       "           0.00731707,  0.00731707,  0.00487805,  0.00487805,  0.00487805],\n",
       "         [ 0.03414634,  0.02439024,  0.03170732,  0.02682927,  0.03902439,\n",
       "           0.02926829,  0.03902439,  0.01463415,  0.0195122 ,  0.02195122],\n",
       "         [ 0.0195122 ,  0.00731707,  0.01707317,  0.01463415,  0.0195122 ,\n",
       "           0.00487805,  0.01219512,  0.01463415,  0.0195122 ,  0.02195122],\n",
       "         [ 0.00731707,  0.01463415,  0.01219512,  0.01707317,  0.02195122,\n",
       "           0.01707317,  0.02439024,  0.00731707,  0.0195122 ,  0.0097561 ],\n",
       "         [ 0.        ,  0.00243902, -0.00243902, -0.00243902,  0.        ,\n",
       "           0.00487805, -0.00243902, -0.00243902, -0.00243902,  0.        ],\n",
       "         [ 0.        ,  0.00487805,  0.        ,  0.00243902,  0.00487805,\n",
       "           0.        ,  0.00243902,  0.00487805,  0.00243902,  0.00243902],\n",
       "         [ 0.0097561 ,  0.01219512,  0.0097561 ,  0.        ,  0.0195122 ,\n",
       "           0.00731707,  0.0097561 ,  0.01219512,  0.00243902,  0.        ],\n",
       "         [ 0.        ,  0.0097561 ,  0.00487805,  0.00243902,  0.00243902,\n",
       "           0.00243902,  0.        ,  0.        ,  0.00731707,  0.00487805],\n",
       "         [ 0.        ,  0.00243902,  0.        ,  0.        ,  0.        ,\n",
       "           0.        ,  0.        ,  0.        ,  0.00243902,  0.00243902],\n",
       "         [ 0.        ,  0.        ,  0.        ,  0.        ,  0.        ,\n",
       "           0.        ,  0.        ,  0.        ,  0.        ,  0.        ],\n",
       "         [ 0.00487805,  0.00731707,  0.00731707,  0.00243902,  0.        ,\n",
       "           0.        ,  0.        , -0.00243902,  0.00243902,  0.00731707],\n",
       "         [ 0.00243902,  0.00731707,  0.00487805,  0.00487805,  0.00731707,\n",
       "           0.00487805,  0.00731707,  0.00487805,  0.00243902,  0.00731707],\n",
       "         [ 0.        ,  0.00243902,  0.00731707,  0.00243902,  0.00731707,\n",
       "           0.00731707,  0.00731707,  0.00731707,  0.00243902,  0.00243902],\n",
       "         [ 0.0195122 ,  0.01707317,  0.01707317,  0.01463415,  0.01463415,\n",
       "           0.00731707,  0.0097561 ,  0.01219512,  0.01219512,  0.01707317],\n",
       "         [-0.00487805,  0.00243902, -0.00243902, -0.00243902, -0.00487805,\n",
       "           0.        , -0.00487805, -0.00487805, -0.00243902,  0.00731707],\n",
       "         [ 0.        , -0.00243902,  0.        ,  0.        ,  0.        ,\n",
       "           0.00243902,  0.        , -0.00243902, -0.00243902,  0.        ],\n",
       "         [ 0.00243902,  0.        ,  0.        ,  0.        , -0.00243902,\n",
       "           0.        ,  0.        ,  0.        ,  0.        ,  0.00243902],\n",
       "         [ 0.        ,  0.        ,  0.        ,  0.        ,  0.        ,\n",
       "           0.        ,  0.        ,  0.        ,  0.        ,  0.        ],\n",
       "         [ 0.        ,  0.00243902,  0.        ,  0.        ,  0.        ,\n",
       "           0.00243902,  0.00487805,  0.        ,  0.        ,  0.        ],\n",
       "         [ 0.00243902,  0.        ,  0.        ,  0.        ,  0.        ,\n",
       "          -0.00243902,  0.        ,  0.        , -0.00243902, -0.00243902],\n",
       "         [ 0.        ,  0.        ,  0.        ,  0.        ,  0.00243902,\n",
       "           0.        ,  0.        ,  0.        ,  0.00243902,  0.00487805]])},\n",
       " {'importances_mean': array([ 0.02536585, -0.00121951,  0.02707317,  0.01853659,  0.00878049,\n",
       "          0.00073171,  0.00243902,  0.00829268,  0.00195122,  0.00121951,\n",
       "          0.        ,  0.00804878,  0.00219512,  0.00536585,  0.0102439 ,\n",
       "          0.01219512, -0.0002439 ,  0.00121951, -0.00219512,  0.00341463,\n",
       "          0.00390244,  0.00146341]),\n",
       "  'importances_std': array([0.00691583, 0.0019664 , 0.0064944 , 0.00411032, 0.00536585,\n",
       "         0.00309478, 0.00243902, 0.00330845, 0.00238975, 0.00163615,\n",
       "         0.        , 0.00268293, 0.00297721, 0.00390244, 0.00323573,\n",
       "         0.00436306, 0.00170732, 0.00121951, 0.00073171, 0.00248733,\n",
       "         0.00292683, 0.0022354 ]),\n",
       "  'importances': array([[ 0.0195122 ,  0.02682927,  0.01219512,  0.02439024,  0.02439024,\n",
       "           0.03170732,  0.03414634,  0.01707317,  0.03170732,  0.03170732],\n",
       "         [ 0.        ,  0.00243902, -0.00243902, -0.00487805, -0.00243902,\n",
       "           0.        , -0.00243902,  0.        ,  0.        , -0.00243902],\n",
       "         [ 0.02195122,  0.02195122,  0.02926829,  0.01707317,  0.02682927,\n",
       "           0.03658537,  0.03170732,  0.02926829,  0.03658537,  0.0195122 ],\n",
       "         [ 0.02682927,  0.0195122 ,  0.01707317,  0.02195122,  0.01707317,\n",
       "           0.0195122 ,  0.01219512,  0.01219512,  0.0195122 ,  0.0195122 ],\n",
       "         [ 0.00731707,  0.00731707,  0.0097561 ,  0.00731707,  0.00487805,\n",
       "           0.01463415,  0.00243902,  0.02195122,  0.00731707,  0.00487805],\n",
       "         [ 0.00487805, -0.00243902,  0.        ,  0.00243902,  0.        ,\n",
       "           0.00731707,  0.        , -0.00243902, -0.00243902,  0.        ],\n",
       "         [-0.00243902,  0.00243902,  0.        ,  0.        ,  0.00487805,\n",
       "           0.00487805,  0.00487805,  0.00243902,  0.00487805,  0.00243902],\n",
       "         [ 0.00487805,  0.00731707,  0.00243902,  0.01219512,  0.00731707,\n",
       "           0.0097561 ,  0.00731707,  0.01463415,  0.0097561 ,  0.00731707],\n",
       "         [ 0.00487805,  0.00243902,  0.        ,  0.00243902,  0.00487805,\n",
       "           0.00243902,  0.00487805,  0.        ,  0.        , -0.00243902],\n",
       "         [ 0.00243902,  0.        ,  0.        ,  0.        ,  0.00243902,\n",
       "           0.        ,  0.00487805,  0.        ,  0.        ,  0.00243902],\n",
       "         [ 0.        ,  0.        ,  0.        ,  0.        ,  0.        ,\n",
       "           0.        ,  0.        ,  0.        ,  0.        ,  0.        ],\n",
       "         [ 0.00243902,  0.00731707,  0.01219512,  0.00731707,  0.0097561 ,\n",
       "           0.0097561 ,  0.0097561 ,  0.0097561 ,  0.00731707,  0.00487805],\n",
       "         [ 0.00487805,  0.00487805,  0.00487805,  0.00487805,  0.00243902,\n",
       "          -0.00243902,  0.        , -0.00243902,  0.00487805,  0.        ],\n",
       "         [ 0.00731707,  0.00731707,  0.00487805,  0.        ,  0.00731707,\n",
       "          -0.00243902,  0.00731707,  0.0097561 ,  0.0097561 ,  0.00243902],\n",
       "         [ 0.01463415,  0.01463415,  0.00731707,  0.00731707,  0.00731707,\n",
       "           0.01219512,  0.01219512,  0.00487805,  0.01219512,  0.0097561 ],\n",
       "         [ 0.01707317,  0.01219512,  0.0097561 ,  0.00487805,  0.0097561 ,\n",
       "           0.01219512,  0.00731707,  0.0195122 ,  0.01707317,  0.01219512],\n",
       "         [-0.00243902,  0.        ,  0.00243902, -0.00243902,  0.00243902,\n",
       "           0.        ,  0.        ,  0.        , -0.00243902,  0.        ],\n",
       "         [ 0.        ,  0.        ,  0.00243902,  0.        ,  0.00243902,\n",
       "           0.        ,  0.00243902,  0.00243902,  0.        ,  0.00243902],\n",
       "         [-0.00243902, -0.00243902, -0.00243902, -0.00243902,  0.        ,\n",
       "          -0.00243902, -0.00243902, -0.00243902, -0.00243902, -0.00243902],\n",
       "         [ 0.00731707,  0.00243902,  0.00243902,  0.        ,  0.00487805,\n",
       "           0.00487805,  0.        ,  0.00243902,  0.00243902,  0.00731707],\n",
       "         [ 0.00731707,  0.00487805,  0.        ,  0.00487805,  0.00731707,\n",
       "           0.00731707,  0.00487805,  0.        ,  0.00243902,  0.        ],\n",
       "         [ 0.        ,  0.00243902,  0.        ,  0.        ,  0.00243902,\n",
       "           0.        ,  0.00487805, -0.00243902,  0.00487805,  0.00243902]])},\n",
       " {'importances_mean': array([ 0.03      ,  0.00292683,  0.04      ,  0.01536585,  0.00682927,\n",
       "         -0.00121951,  0.00219512,  0.0004878 ,  0.00121951,  0.0002439 ,\n",
       "          0.        ,  0.00560976,  0.00268293, -0.0004878 ,  0.00756098,\n",
       "          0.00365854,  0.00073171,  0.        ,  0.        ,  0.00317073,\n",
       "          0.00317073,  0.00121951]),\n",
       "  'importances_std': array([0.00690291, 0.00146341, 0.00772828, 0.00450395, 0.00575113,\n",
       "         0.00121951, 0.00202601, 0.00262691, 0.0019664 , 0.00073171,\n",
       "         0.        , 0.00190494, 0.0033531 , 0.00358462, 0.00297721,\n",
       "         0.00224867, 0.00219512, 0.        , 0.        , 0.00190494,\n",
       "         0.00156174, 0.00163615]),\n",
       "  'importances': array([[ 0.02926829,  0.02926829,  0.04146341,  0.02926829,  0.04390244,\n",
       "           0.02682927,  0.02682927,  0.02682927,  0.02682927,  0.0195122 ],\n",
       "         [ 0.00487805,  0.        ,  0.00243902,  0.00243902,  0.00487805,\n",
       "           0.00243902,  0.00487805,  0.00243902,  0.00243902,  0.00243902],\n",
       "         [ 0.02439024,  0.04146341,  0.05365854,  0.04146341,  0.04634146,\n",
       "           0.04146341,  0.04390244,  0.03170732,  0.04146341,  0.03414634],\n",
       "         [ 0.0195122 ,  0.0097561 ,  0.0097561 ,  0.01463415,  0.02195122,\n",
       "           0.01463415,  0.01707317,  0.0097561 ,  0.01463415,  0.02195122],\n",
       "         [ 0.00487805,  0.0097561 ,  0.00243902,  0.01219512,  0.0097561 ,\n",
       "           0.00731707, -0.00731707,  0.00487805,  0.01219512,  0.01219512],\n",
       "         [-0.00243902,  0.        ,  0.        ,  0.        , -0.00243902,\n",
       "           0.        , -0.00243902, -0.00243902,  0.        , -0.00243902],\n",
       "         [ 0.00487805,  0.00487805,  0.        ,  0.00487805,  0.        ,\n",
       "           0.        ,  0.        ,  0.00243902,  0.00243902,  0.00243902],\n",
       "         [-0.00243902,  0.        ,  0.        ,  0.        ,  0.00243902,\n",
       "          -0.00243902, -0.00243902,  0.        ,  0.00487805,  0.00487805],\n",
       "         [ 0.00243902,  0.        ,  0.00243902,  0.        ,  0.00487805,\n",
       "           0.00243902,  0.        ,  0.        , -0.00243902,  0.00243902],\n",
       "         [ 0.        ,  0.        ,  0.        ,  0.        ,  0.00243902,\n",
       "           0.        ,  0.        ,  0.        ,  0.        ,  0.        ],\n",
       "         [ 0.        ,  0.        ,  0.        ,  0.        ,  0.        ,\n",
       "           0.        ,  0.        ,  0.        ,  0.        ,  0.        ],\n",
       "         [ 0.00731707,  0.00731707,  0.00731707,  0.00487805,  0.00243902,\n",
       "           0.00487805,  0.00731707,  0.00243902,  0.00731707,  0.00487805],\n",
       "         [ 0.00243902,  0.00731707,  0.00487805,  0.00487805,  0.        ,\n",
       "           0.00243902,  0.00487805,  0.        , -0.00487805,  0.00487805],\n",
       "         [-0.00487805,  0.00731707,  0.        , -0.00243902, -0.00243902,\n",
       "          -0.00243902, -0.00487805,  0.00243902,  0.        ,  0.00243902],\n",
       "         [ 0.0097561 ,  0.00731707,  0.0097561 ,  0.00487805,  0.01219512,\n",
       "           0.00487805,  0.00487805,  0.00487805,  0.00487805,  0.01219512],\n",
       "         [ 0.00243902,  0.        ,  0.00487805,  0.00243902,  0.00487805,\n",
       "           0.00243902,  0.00243902,  0.00731707,  0.00731707,  0.00243902],\n",
       "         [ 0.        ,  0.00243902,  0.        , -0.00243902,  0.        ,\n",
       "           0.        , -0.00243902,  0.00243902,  0.00487805,  0.00243902],\n",
       "         [ 0.        ,  0.        ,  0.        ,  0.        ,  0.        ,\n",
       "           0.        ,  0.        ,  0.        ,  0.        ,  0.        ],\n",
       "         [ 0.        ,  0.        ,  0.        ,  0.        ,  0.        ,\n",
       "           0.        ,  0.        ,  0.        ,  0.        ,  0.        ],\n",
       "         [ 0.00487805,  0.00487805,  0.00243902,  0.00243902,  0.        ,\n",
       "           0.        ,  0.00243902,  0.00487805,  0.00487805,  0.00487805],\n",
       "         [ 0.00243902,  0.00243902,  0.00243902,  0.00243902,  0.00243902,\n",
       "           0.00243902,  0.00243902,  0.00243902,  0.00487805,  0.00731707],\n",
       "         [ 0.        ,  0.        ,  0.        ,  0.        ,  0.00243902,\n",
       "           0.        ,  0.        ,  0.00243902,  0.00487805,  0.00243902]])},\n",
       " {'importances_mean': array([ 0.0375    ,  0.003125  ,  0.02956731,  0.03028846,  0.01754808,\n",
       "          0.00120192,  0.00336538,  0.00865385,  0.00168269,  0.00048077,\n",
       "          0.        ,  0.00817308,  0.00432692, -0.00144231,  0.01346154,\n",
       "          0.01009615,  0.00048077,  0.00072115,  0.00216346,  0.00336538,\n",
       "          0.00528846,  0.00336538]),\n",
       "  'importances_std': array([0.00730706, 0.00264423, 0.01244672, 0.00432692, 0.00527205,\n",
       "         0.00161255, 0.00326074, 0.00445847, 0.00187746, 0.00096154,\n",
       "         0.        , 0.00117764, 0.00144231, 0.00343338, 0.00600481,\n",
       "         0.00369286, 0.00096154, 0.00110158, 0.00129451, 0.00220316,\n",
       "         0.00280334, 0.00267681]),\n",
       "  'importances': array([[ 0.03365385,  0.04807692,  0.03846154,  0.03605769,  0.04567308,\n",
       "           0.02644231,  0.03365385,  0.04086538,  0.02644231,  0.04567308],\n",
       "         [ 0.00240385,  0.        ,  0.        ,  0.00240385,  0.00480769,\n",
       "           0.00961538,  0.00240385,  0.00480769,  0.00240385,  0.00240385],\n",
       "         [ 0.02163462,  0.04807692,  0.01442308,  0.03125   ,  0.03365385,\n",
       "           0.00721154,  0.04326923,  0.02644231,  0.02644231,  0.04326923],\n",
       "         [ 0.02884615,  0.02884615,  0.03365385,  0.03365385,  0.03605769,\n",
       "           0.02884615,  0.02163462,  0.02884615,  0.03605769,  0.02644231],\n",
       "         [ 0.02403846,  0.01682692,  0.01682692,  0.00721154,  0.01682692,\n",
       "           0.01201923,  0.02403846,  0.01442308,  0.02403846,  0.01923077],\n",
       "         [ 0.00240385,  0.        ,  0.        ,  0.        ,  0.        ,\n",
       "           0.        ,  0.00240385,  0.00240385,  0.        ,  0.00480769],\n",
       "         [ 0.00240385,  0.00721154,  0.00721154,  0.00721154,  0.        ,\n",
       "           0.00721154,  0.        ,  0.        ,  0.        ,  0.00240385],\n",
       "         [ 0.01442308,  0.00480769,  0.00961538,  0.00480769,  0.00961538,\n",
       "           0.00240385,  0.01201923,  0.00721154,  0.00480769,  0.01682692],\n",
       "         [ 0.00480769,  0.00240385,  0.        ,  0.00480769,  0.        ,\n",
       "           0.        ,  0.        ,  0.00240385,  0.        ,  0.00240385],\n",
       "         [ 0.        ,  0.00240385,  0.        ,  0.00240385,  0.        ,\n",
       "           0.        ,  0.        ,  0.        ,  0.        ,  0.        ],\n",
       "         [ 0.        ,  0.        ,  0.        ,  0.        ,  0.        ,\n",
       "           0.        ,  0.        ,  0.        ,  0.        ,  0.        ],\n",
       "         [ 0.00721154,  0.00721154,  0.00721154,  0.00961538,  0.00961538,\n",
       "           0.00721154,  0.00721154,  0.00961538,  0.00721154,  0.00961538],\n",
       "         [ 0.00240385,  0.00480769,  0.00480769,  0.00480769,  0.00721154,\n",
       "           0.00480769,  0.00480769,  0.00240385,  0.00480769,  0.00240385],\n",
       "         [-0.00721154,  0.00240385, -0.00240385, -0.00240385,  0.00240385,\n",
       "          -0.00240385, -0.00480769,  0.00240385,  0.00240385, -0.00480769],\n",
       "         [ 0.01923077,  0.00480769,  0.01682692,  0.01682692,  0.01923077,\n",
       "           0.01923077,  0.00721154,  0.00240385,  0.01442308,  0.01442308],\n",
       "         [ 0.00721154,  0.01682692,  0.00480769,  0.01201923,  0.00480769,\n",
       "           0.00961538,  0.01442308,  0.00961538,  0.01201923,  0.00961538],\n",
       "         [ 0.        ,  0.        ,  0.00240385,  0.        ,  0.        ,\n",
       "           0.        ,  0.        ,  0.        ,  0.        ,  0.00240385],\n",
       "         [ 0.00240385,  0.        ,  0.        ,  0.        ,  0.00240385,\n",
       "           0.00240385,  0.        ,  0.        ,  0.        ,  0.        ],\n",
       "         [ 0.00240385,  0.00240385,  0.00480769,  0.00240385,  0.        ,\n",
       "           0.        ,  0.00240385,  0.00240385,  0.00240385,  0.00240385],\n",
       "         [ 0.00240385,  0.00240385,  0.00240385,  0.00721154,  0.00240385,\n",
       "           0.00240385,  0.00480769,  0.00721154,  0.00240385,  0.        ],\n",
       "         [ 0.00480769,  0.00240385,  0.00961538,  0.00721154,  0.00961538,\n",
       "           0.        ,  0.00480769,  0.00480769,  0.00480769,  0.00480769],\n",
       "         [ 0.        ,  0.00721154,  0.00480769,  0.00721154,  0.        ,\n",
       "           0.        ,  0.00480769,  0.00240385,  0.00240385,  0.00480769]])},\n",
       " {'importances_mean': array([ 0.03677885,  0.00144231,  0.03870192,  0.015625  ,  0.01802885,\n",
       "          0.00384615,  0.00144231,  0.01298077, -0.00120192,  0.        ,\n",
       "          0.        ,  0.01057692,  0.00216346,  0.00480769,  0.00336538,\n",
       "          0.00865385,  0.00120192,  0.        ,  0.        ,  0.00048077,\n",
       "          0.00192308,  0.00144231]),\n",
       "  'importances_std': array([0.00599035, 0.00192308, 0.00509366, 0.00419814, 0.00495566,\n",
       "         0.00117764, 0.00117764, 0.00307843, 0.00161255, 0.        ,\n",
       "         0.        , 0.00343338, 0.00199678, 0.00387609, 0.00245145,\n",
       "         0.00359775, 0.00120192, 0.        , 0.        , 0.00144231,\n",
       "         0.00209562, 0.00117764]),\n",
       "  'importances': array([[ 0.02644231,  0.04086538,  0.04086538,  0.04086538,  0.04567308,\n",
       "           0.03125   ,  0.03846154,  0.03365385,  0.02884615,  0.04086538],\n",
       "         [ 0.00480769,  0.00240385,  0.00240385, -0.00240385,  0.00240385,\n",
       "           0.00240385,  0.        ,  0.00240385,  0.        ,  0.        ],\n",
       "         [ 0.04086538,  0.04326923,  0.03846154,  0.02884615,  0.04086538,\n",
       "           0.04326923,  0.04567308,  0.03125   ,  0.03846154,  0.03605769],\n",
       "         [ 0.01923077,  0.01923077,  0.01201923,  0.01923077,  0.01923077,\n",
       "           0.01682692,  0.01682692,  0.00961538,  0.01682692,  0.00721154],\n",
       "         [ 0.01923077,  0.01923077,  0.02163462,  0.01201923,  0.02403846,\n",
       "           0.02644231,  0.00961538,  0.01682692,  0.01442308,  0.01682692],\n",
       "         [ 0.00240385,  0.00480769,  0.00480769,  0.00240385,  0.00480769,\n",
       "           0.00480769,  0.00240385,  0.00240385,  0.00480769,  0.00480769],\n",
       "         [ 0.00240385,  0.00240385,  0.00240385,  0.        ,  0.00240385,\n",
       "           0.        ,  0.        ,  0.00240385,  0.00240385,  0.        ],\n",
       "         [ 0.01442308,  0.01442308,  0.00721154,  0.01201923,  0.01442308,\n",
       "           0.01442308,  0.00961538,  0.01201923,  0.01201923,  0.01923077],\n",
       "         [-0.00240385, -0.00240385,  0.        ,  0.00240385, -0.00240385,\n",
       "           0.        , -0.00240385,  0.        , -0.00240385, -0.00240385],\n",
       "         [ 0.        ,  0.        ,  0.        ,  0.        ,  0.        ,\n",
       "           0.        ,  0.        ,  0.        ,  0.        ,  0.        ],\n",
       "         [ 0.        ,  0.        ,  0.        ,  0.        ,  0.        ,\n",
       "           0.        ,  0.        ,  0.        ,  0.        ,  0.        ],\n",
       "         [ 0.01442308,  0.00721154,  0.00961538,  0.01201923,  0.01201923,\n",
       "           0.01201923,  0.00480769,  0.01682692,  0.00961538,  0.00721154],\n",
       "         [ 0.00480769,  0.00240385,  0.00240385,  0.00480769,  0.        ,\n",
       "           0.00480769,  0.        ,  0.        ,  0.00240385,  0.        ],\n",
       "         [ 0.00240385,  0.00721154,  0.00961538,  0.00721154,  0.00240385,\n",
       "           0.00480769,  0.00721154,  0.00721154,  0.00480769, -0.00480769],\n",
       "         [ 0.00240385,  0.00721154,  0.00480769,  0.00240385,  0.00721154,\n",
       "           0.00480769,  0.        ,  0.00240385,  0.        ,  0.00240385],\n",
       "         [ 0.00961538,  0.00961538,  0.        ,  0.01442308,  0.00961538,\n",
       "           0.00961538,  0.00721154,  0.00721154,  0.01201923,  0.00721154],\n",
       "         [ 0.00240385,  0.        ,  0.        ,  0.00240385,  0.        ,\n",
       "           0.00240385,  0.00240385,  0.        ,  0.00240385,  0.        ],\n",
       "         [ 0.        ,  0.        ,  0.        ,  0.        ,  0.        ,\n",
       "           0.        ,  0.        ,  0.        ,  0.        ,  0.        ],\n",
       "         [ 0.        ,  0.        ,  0.        ,  0.        ,  0.        ,\n",
       "           0.        ,  0.        ,  0.        ,  0.        ,  0.        ],\n",
       "         [ 0.        ,  0.        , -0.00240385,  0.        ,  0.        ,\n",
       "           0.        ,  0.        ,  0.00240385,  0.00240385,  0.00240385],\n",
       "         [ 0.        ,  0.        ,  0.        ,  0.00480769,  0.        ,\n",
       "           0.        ,  0.00480769,  0.00240385,  0.00240385,  0.00480769],\n",
       "         [ 0.00240385,  0.00240385,  0.        ,  0.        ,  0.        ,\n",
       "           0.00240385,  0.00240385,  0.        ,  0.00240385,  0.00240385]])},\n",
       " {'importances_mean': array([ 0.01947115,  0.        ,  0.02980769,  0.01706731,  0.00889423,\n",
       "          0.00144231,  0.003125  ,  0.00552885,  0.        ,  0.00072115,\n",
       "          0.        ,  0.00576923,  0.00048077,  0.00288462,  0.01370192,\n",
       "          0.00841346, -0.00120192, -0.00168269,  0.00384615, -0.00216346,\n",
       "         -0.00432692,  0.00264423]),\n",
       "  'importances_std': array([0.00915042, 0.00304065, 0.00847846, 0.00692124, 0.00443899,\n",
       "         0.00267681, 0.00264423, 0.00340804, 0.00263328, 0.00110158,\n",
       "         0.        , 0.00343338, 0.00336538, 0.00336538, 0.00285441,\n",
       "         0.00561184, 0.00193804, 0.00187746, 0.00117764, 0.00168269,\n",
       "         0.00209562, 0.00226778]),\n",
       "  'importances': array([[ 0.00961538,  0.01682692,  0.00721154,  0.02403846,  0.01923077,\n",
       "           0.00721154,  0.03605769,  0.02884615,  0.01923077,  0.02644231],\n",
       "         [ 0.        , -0.00240385,  0.        ,  0.00240385,  0.00480769,\n",
       "          -0.00480769, -0.00240385, -0.00240385,  0.00480769,  0.        ],\n",
       "         [ 0.02403846,  0.02644231,  0.02403846,  0.03125   ,  0.04086538,\n",
       "           0.03125   ,  0.04086538,  0.04086538,  0.01442308,  0.02403846],\n",
       "         [ 0.00240385,  0.01201923,  0.01923077,  0.02163462,  0.01442308,\n",
       "           0.02163462,  0.01682692,  0.02884615,  0.01201923,  0.02163462],\n",
       "         [ 0.00961538,  0.00961538,  0.01442308,  0.00480769,  0.01442308,\n",
       "           0.00721154,  0.00961538,  0.00240385,  0.00240385,  0.01442308],\n",
       "         [ 0.00480769,  0.        ,  0.        , -0.00240385,  0.00480769,\n",
       "           0.00240385,  0.        ,  0.00480769, -0.00240385,  0.00240385],\n",
       "         [ 0.00721154,  0.00240385, -0.00240385,  0.00240385,  0.00480769,\n",
       "           0.00240385,  0.00480769,  0.        ,  0.00480769,  0.00480769],\n",
       "         [ 0.00721154,  0.01201923,  0.00721154,  0.00480769,  0.00480769,\n",
       "          -0.00240385,  0.00480769,  0.00480769,  0.00480769,  0.00721154],\n",
       "         [ 0.00240385, -0.00480769, -0.00240385,  0.00240385,  0.00240385,\n",
       "           0.00240385, -0.00240385, -0.00240385,  0.00240385,  0.        ],\n",
       "         [ 0.00240385,  0.        ,  0.        ,  0.00240385,  0.        ,\n",
       "           0.        ,  0.        ,  0.        ,  0.00240385,  0.        ],\n",
       "         [ 0.        ,  0.        ,  0.        ,  0.        ,  0.        ,\n",
       "           0.        ,  0.        ,  0.        ,  0.        ,  0.        ],\n",
       "         [ 0.00240385,  0.00721154,  0.00961538,  0.00721154, -0.00240385,\n",
       "           0.00480769,  0.00480769,  0.00721154,  0.00721154,  0.00961538],\n",
       "         [-0.00240385, -0.00480769,  0.00721154,  0.        ,  0.00480769,\n",
       "           0.        ,  0.        ,  0.00240385,  0.        , -0.00240385],\n",
       "         [ 0.00721154, -0.00240385,  0.00480769,  0.00240385,  0.        ,\n",
       "           0.00240385, -0.00240385,  0.00721154,  0.00480769,  0.00480769],\n",
       "         [ 0.00721154,  0.01682692,  0.01682692,  0.01442308,  0.01682692,\n",
       "           0.01442308,  0.01201923,  0.01201923,  0.01201923,  0.01442308],\n",
       "         [ 0.00721154,  0.00961538,  0.00240385,  0.01682692, -0.00480769,\n",
       "           0.00961538,  0.00961538,  0.01201923,  0.00961538,  0.01201923],\n",
       "         [-0.00240385, -0.00240385,  0.        ,  0.00240385, -0.00240385,\n",
       "          -0.00240385,  0.        , -0.00480769,  0.        ,  0.        ],\n",
       "         [-0.00240385, -0.00240385,  0.00240385,  0.        , -0.00240385,\n",
       "          -0.00240385,  0.        , -0.00240385, -0.00240385, -0.00480769],\n",
       "         [ 0.00240385,  0.00240385,  0.00480769,  0.00480769,  0.00480769,\n",
       "           0.00240385,  0.00240385,  0.00480769,  0.00480769,  0.00480769],\n",
       "         [-0.00480769,  0.        , -0.00240385, -0.00480769,  0.        ,\n",
       "           0.        , -0.00240385, -0.00240385, -0.00240385, -0.00240385],\n",
       "         [-0.00721154, -0.00240385, -0.00480769, -0.00240385, -0.00480769,\n",
       "          -0.00480769, -0.00721154,  0.        , -0.00480769, -0.00480769],\n",
       "         [ 0.        ,  0.00240385,  0.00480769,  0.00480769,  0.        ,\n",
       "           0.00240385,  0.00240385,  0.        ,  0.00721154,  0.00240385]])},\n",
       " {'importances_mean': array([ 2.48192771e-02, -9.63855422e-04,  3.66265060e-02,  1.97590361e-02,\n",
       "          8.19277108e-03, -2.40963855e-04, -4.81927711e-04,  9.63855422e-03,\n",
       "          1.44578313e-03,  0.00000000e+00,  0.00000000e+00,  2.89156627e-03,\n",
       "         -1.20481928e-03, -4.44089210e-17,  6.02409639e-03,  1.56626506e-02,\n",
       "         -2.89156627e-03,  0.00000000e+00,  0.00000000e+00, -2.40963855e-03,\n",
       "         -2.89156627e-03, -4.81927711e-04]),\n",
       "  'importances_std': array([0.00664728, 0.00220847, 0.00980578, 0.00635706, 0.00562019,\n",
       "         0.00168675, 0.00180321, 0.003733  , 0.00159837, 0.        ,\n",
       "         0.        , 0.00180321, 0.00120482, 0.00240964, 0.00327746,\n",
       "         0.00361446, 0.00096386, 0.        , 0.        , 0.0018665 ,\n",
       "         0.00180321, 0.00210067]),\n",
       "  'importances': array([[ 0.02650602,  0.02168675,  0.0313253 ,  0.02650602,  0.02650602,\n",
       "           0.0313253 ,  0.00722892,  0.02891566,  0.02168675,  0.02650602],\n",
       "         [ 0.        , -0.00240964,  0.        ,  0.00240964, -0.00240964,\n",
       "          -0.00481928, -0.00240964, -0.00240964,  0.        ,  0.00240964],\n",
       "         [ 0.04337349,  0.03855422,  0.04578313,  0.04819277,  0.03614458,\n",
       "           0.03855422,  0.01204819,  0.04096386,  0.02891566,  0.03373494],\n",
       "         [ 0.02168675,  0.01927711,  0.02168675,  0.01204819,  0.01204819,\n",
       "           0.03373494,  0.01927711,  0.01445783,  0.01686747,  0.02650602],\n",
       "         [ 0.00963855,  0.00240964,  0.01204819,  0.01686747,  0.00963855,\n",
       "          -0.00481928,  0.00722892,  0.00963855,  0.00722892,  0.01204819],\n",
       "         [ 0.        , -0.00240964,  0.        , -0.00240964,  0.00240964,\n",
       "           0.        ,  0.00240964,  0.        , -0.00240964,  0.        ],\n",
       "         [ 0.        , -0.00481928,  0.        ,  0.        ,  0.        ,\n",
       "          -0.00240964,  0.        ,  0.        ,  0.00240964,  0.        ],\n",
       "         [ 0.01445783,  0.00722892,  0.00722892,  0.01204819,  0.00481928,\n",
       "           0.00963855,  0.00963855,  0.00963855,  0.00481928,  0.01686747],\n",
       "         [ 0.00240964,  0.00240964,  0.00240964,  0.00240964,  0.        ,\n",
       "           0.00240964,  0.        , -0.00240964,  0.00240964,  0.00240964],\n",
       "         [ 0.        ,  0.        ,  0.        ,  0.        ,  0.        ,\n",
       "           0.        ,  0.        ,  0.        ,  0.        ,  0.        ],\n",
       "         [ 0.        ,  0.        ,  0.        ,  0.        ,  0.        ,\n",
       "           0.        ,  0.        ,  0.        ,  0.        ,  0.        ],\n",
       "         [ 0.00481928,  0.00722892,  0.00240964,  0.00240964,  0.        ,\n",
       "           0.00240964,  0.00240964,  0.00240964,  0.00240964,  0.00240964],\n",
       "         [ 0.        , -0.00240964,  0.        ,  0.        , -0.00240964,\n",
       "          -0.00240964, -0.00240964,  0.        ,  0.        , -0.00240964],\n",
       "         [-0.00240964,  0.        ,  0.00240964,  0.00240964,  0.        ,\n",
       "          -0.00240964,  0.00481928, -0.00240964,  0.        , -0.00240964],\n",
       "         [ 0.00963855,  0.00481928,  0.00963855,  0.00963855,  0.00240964,\n",
       "           0.00722892,  0.00240964,  0.00722892,  0.00722892,  0.        ],\n",
       "         [ 0.02168675,  0.00963855,  0.01445783,  0.00963855,  0.01686747,\n",
       "           0.01686747,  0.01686747,  0.01445783,  0.01927711,  0.01686747],\n",
       "         [-0.00481928, -0.00240964, -0.00240964, -0.00240964, -0.00240964,\n",
       "          -0.00481928, -0.00240964, -0.00240964, -0.00240964, -0.00240964],\n",
       "         [ 0.        ,  0.        ,  0.        ,  0.        ,  0.        ,\n",
       "           0.        ,  0.        ,  0.        ,  0.        ,  0.        ],\n",
       "         [ 0.        ,  0.        ,  0.        ,  0.        ,  0.        ,\n",
       "           0.        ,  0.        ,  0.        ,  0.        ,  0.        ],\n",
       "         [-0.00240964,  0.        ,  0.        , -0.00481928, -0.00240964,\n",
       "          -0.00481928, -0.00240964, -0.00240964, -0.00481928,  0.        ],\n",
       "         [ 0.        ,  0.        , -0.00481928, -0.00240964, -0.00481928,\n",
       "          -0.00481928, -0.00240964, -0.00240964, -0.00481928, -0.00240964],\n",
       "         [ 0.        , -0.00481928, -0.00240964,  0.        ,  0.        ,\n",
       "          -0.00240964,  0.        ,  0.        ,  0.00240964,  0.00240964]])}]"
      ]
     },
     "execution_count": 7,
     "metadata": {},
     "output_type": "execute_result"
    }
   ],
   "source": [
    "gkf_permute"
   ]
  },
  {
   "cell_type": "code",
   "execution_count": 8,
   "metadata": {},
   "outputs": [],
   "source": [
    "imp_mean = np.zeros(gkf_permute[0].importances.shape)\n",
    "imp_std_mean = np.zeros(gkf_permute[0].importances_std.shape)\n",
    "\n",
    "for i in range(len(gkf_permute)):\n",
    "    imp_mean += gkf_permute[i].importances\n",
    "    imp_std_mean += gkf_permute[i].importances_std\n",
    "    \n",
    "imp_mean /= gkf_permute[0].importances.shape[1]\n",
    "imp_std_mean /= gkf_permute[0].importances_std.shape"
   ]
  },
  {
   "cell_type": "code",
   "execution_count": 9,
   "metadata": {},
   "outputs": [
    {
     "data": {
      "text/plain": [
       "(22, 10)"
      ]
     },
     "execution_count": 9,
     "metadata": {},
     "output_type": "execute_result"
    }
   ],
   "source": [
    "imp_mean.shape"
   ]
  },
  {
   "cell_type": "code",
   "execution_count": 10,
   "metadata": {},
   "outputs": [
    {
     "data": {
      "text/plain": [
       "'\\ntree_importance_sorted_idx = np.argsort(rfc.feature_importances_)\\nprint(tree_importance_sorted_idx)\\ntree_indices = np.arange(0, len(rfc.feature_importances_)) + 0.5\\n\\nfig, (ax1, ax2) = plt.subplots(1, 2, figsize=(12, 8))\\nax1.barh(tree_indices,\\n         rfc.feature_importances_[tree_importance_sorted_idx], height=0.7)\\n'"
      ]
     },
     "execution_count": 10,
     "metadata": {},
     "output_type": "execute_result"
    }
   ],
   "source": [
    "\"\"\"\n",
    "tree_importance_sorted_idx = np.argsort(rfc.feature_importances_)\n",
    "print(tree_importance_sorted_idx)\n",
    "tree_indices = np.arange(0, len(rfc.feature_importances_)) + 0.5\n",
    "\n",
    "fig, (ax1, ax2) = plt.subplots(1, 2, figsize=(12, 8))\n",
    "ax1.barh(tree_indices,\n",
    "         rfc.feature_importances_[tree_importance_sorted_idx], height=0.7)\n",
    "\"\"\""
   ]
  },
  {
   "cell_type": "code",
   "execution_count": 11,
   "metadata": {},
   "outputs": [
    {
     "data": {
      "text/plain": [
       "array([1., 1., 1.])"
      ]
     },
     "execution_count": 11,
     "metadata": {},
     "output_type": "execute_result"
    }
   ],
   "source": [
    "np.mean(np.ones((3,3)), axis=0)"
   ]
  },
  {
   "cell_type": "code",
   "execution_count": 12,
   "metadata": {},
   "outputs": [
    {
     "data": {
      "text/plain": [
       "'\\n#feature_names = np.array(list(feature_cols))\\nfeature_names = [\"Aromatic Planar Deviation\", \"Aromatic Nitrogens\", \"Atom Planar Deviation\", \"Neighbor Charge Difference\",\\n                \"Neutral Partial Charge\", \"Molecule Nitrogens Count\", \"Nearest Nitrogen Distance\", \"Molecule Heteroatom Count\", \\n                \"Neighbor Spin Density\", \"Ionization Energy\", \"Meta\", \"Ortho or Para\", \"Spin Density\", \"Hydrogen Count\",\\n                \"Aromatic Extent\", \"Farther than Para\", \"Ring Edge\", \"Charge Difference\", \"Is in Ring Size 6\", \"Molecule Charge\",\\n                \"Is in Ring Size 5\", \"Neighbor Partial Charge\"]\\nfeature_names = np.array(feature_names)\\n'"
      ]
     },
     "execution_count": 12,
     "metadata": {},
     "output_type": "execute_result"
    }
   ],
   "source": [
    "\"\"\"\n",
    "#feature_names = np.array(list(feature_cols))\n",
    "feature_names = [\"Aromatic Planar Deviation\", \"Aromatic Nitrogens\", \"Atom Planar Deviation\", \"Neighbor Charge Difference\",\n",
    "                \"Neutral Partial Charge\", \"Molecule Nitrogens Count\", \"Nearest Nitrogen Distance\", \"Molecule Heteroatom Count\", \n",
    "                \"Neighbor Spin Density\", \"Ionization Energy\", \"Meta\", \"Ortho or Para\", \"Spin Density\", \"Hydrogen Count\",\n",
    "                \"Aromatic Extent\", \"Farther than Para\", \"Ring Edge\", \"Charge Difference\", \"Is in Ring Size 6\", \"Molecule Charge\",\n",
    "                \"Is in Ring Size 5\", \"Neighbor Partial Charge\"]\n",
    "feature_names = np.array(feature_names)\n",
    "\"\"\""
   ]
  },
  {
   "cell_type": "code",
   "execution_count": 13,
   "metadata": {},
   "outputs": [],
   "source": [
    "feature_names = [\n",
    "    \"Spin Density\",\n",
    "    \"Neutral Partial Charge\",\n",
    "    \"Partial Charge Difference\",\n",
    "    \"Ionization Energy\",\n",
    "    \"Ortho or Para\",\n",
    "    \"Meta\",\n",
    "    \"Farther than Para\",\n",
    "    \"Nearest Nitrogen Distance\",\n",
    "    \"Hydrogen Count\",\n",
    "    \"Is in Ring Size 6\",\n",
    "    \"Is in Ring Size 5\",\n",
    "    \"Neighbor Spin Density\",\n",
    "    \"Neighbor Partial Charge\",\n",
    "    \"Neighbor Charge Difference\",\n",
    "    \"Aromatic Extent\",\n",
    "    \"Ring Embedding Count\",\n",
    "    \"Molecule Nitrogens Count\",\n",
    "    \"Molecule Heteroatom Count\",\n",
    "    \"Molecule Charge\",\n",
    "    \"Atom Planar Deviation\",\n",
    "    \"Aromatic Nitrogens\",\n",
    "    \"Ring Nitrogens\"\n",
    "    ]\n",
    "feature_names = np.array(feature_names)"
   ]
  },
  {
   "cell_type": "code",
   "execution_count": 14,
   "metadata": {},
   "outputs": [
    {
     "data": {
      "text/plain": [
       "['SpinDensity',\n",
       " 'ChElPGNeutralCharge',\n",
       " 'ChargeDifference',\n",
       " 'IonizationEnergy',\n",
       " 'OrthoOrPara',\n",
       " 'Meta',\n",
       " 'FartherThanPara',\n",
       " 'DistanceToN',\n",
       " 'NumberOfHydrogens',\n",
       " 'IsInRingSize6',\n",
       " 'IsInRingSize5',\n",
       " 'NeighborSpinDensity',\n",
       " 'NeighborChElPGCharge',\n",
       " 'NeighborChargeDifference',\n",
       " 'AromaticExtent',\n",
       " 'RingEdge',\n",
       " 'NumNitrogens',\n",
       " 'NumHeteroatoms',\n",
       " 'charge',\n",
       " 'atom_plane_deviation',\n",
       " 'ring_plane_deviation',\n",
       " 'ring_nitrogens']"
      ]
     },
     "execution_count": 14,
     "metadata": {},
     "output_type": "execute_result"
    }
   ],
   "source": [
    "list(feature_cols)"
   ]
  },
  {
   "cell_type": "code",
   "execution_count": 15,
   "metadata": {},
   "outputs": [
    {
     "name": "stdout",
     "output_type": "stream",
     "text": [
      "22\n",
      "22\n"
     ]
    }
   ],
   "source": [
    "print(len(feature_names))\n",
    "print(len(feature_cols))"
   ]
  },
  {
   "cell_type": "code",
   "execution_count": 16,
   "metadata": {},
   "outputs": [
    {
     "data": {
      "image/png": "[encoded data removed]",
      "text/plain": [
       "<Figure size 576x792 with 1 Axes>"
      ]
     },
     "metadata": {
      "needs_background": "light"
     },
     "output_type": "display_data"
    }
   ],
   "source": [
    "# we should be able to average the values from each of the k-folds\n",
    "plt.rcParams.update({'figure.autolayout': True})\n",
    "\n",
    "imp_mean_mean = np.mean(imp_mean, axis=1)\n",
    "perm_sorted_idx = imp_mean_mean.argsort()\n",
    "\n",
    "fig = plt.gcf()\n",
    "#fig, ax = plt.subplot(1,1)\n",
    "#ax.set_yticklabels(features[tree_importance_sorted_idx])\n",
    "#ax.set_yticks(tree_indices)\n",
    "#ax.set_ylim((0, len(rfc.feature_importances_)))\n",
    "#plt.boxplot(imp_mean[0:10].T, vert=False)\n",
    "plt.boxplot(imp_mean[perm_sorted_idx].T, vert=False,\n",
    "            labels=feature_names[perm_sorted_idx])\n",
    "#fig.tight_layout()\n",
    "fig.set_size_inches(8,11)\n",
    "plt.xlabel(\"Permutation Importance\")\n",
    "plt.savefig(\"RFC_permutation_importance.png\")\n",
    "#plt.show()\n"
   ]
  },
  {
   "cell_type": "code",
   "execution_count": 17,
   "metadata": {},
   "outputs": [],
   "source": [
    "gkf_test = pd.concat(gkf_test_idxs)"
   ]
  },
  {
   "cell_type": "code",
   "execution_count": 18,
   "metadata": {},
   "outputs": [],
   "source": [
    "gkf_test_pred_list = []\n",
    "for gkf in gkf_test_pred:\n",
    "    gkf_test_pred_list += list(gkf)"
   ]
  },
  {
   "cell_type": "code",
   "execution_count": 19,
   "metadata": {},
   "outputs": [],
   "source": [
    "gkf_test[\"Doesitbind_pred\"] = gkf_test_pred_list"
   ]
  },
  {
   "cell_type": "code",
   "execution_count": 20,
   "metadata": {},
   "outputs": [],
   "source": [
    "#train_inds, test_inds = next(GroupShuffleSplit(test_size=0.10, n_splits=2, random_state = 7).split(df_active, groups=df_active['Catalyst Name']))"
   ]
  },
  {
   "cell_type": "code",
   "execution_count": 21,
   "metadata": {},
   "outputs": [],
   "source": [
    "from sklearn.metrics import r2_score\n",
    "from sklearn.metrics import mean_squared_error\n",
    "from sklearn.metrics import mean_absolute_error\n",
    "from sklearn.neural_network import MLPRegressor"
   ]
  },
  {
   "cell_type": "code",
   "execution_count": 22,
   "metadata": {},
   "outputs": [],
   "source": [
    "#kernel = C(1.0, (1e-3, 1e3)) * RBF(10, (1e-2, 1e2))\n",
    "#gpr = GaussianProcessRegressor(n_restarts_optimizer=9)\n",
    "model = MLPRegressor(max_iter=30000, hidden_layer_sizes=(512, 256, 128, 16), learning_rate=\"adaptive\")\n",
    "#model.fit(X_reg_train_group, y_reg_train_group)\n",
    "#y_reg_test_group_pred = model.predict(X_reg_test_group)\n",
    "#mse = mean_squared_error(y_reg_test_group, y_reg_test_group_pred, squared=False)\n",
    "#mae = mean_absolute_error(y_reg_test_group, y_reg_test_group_pred)\n",
    "#print(mse, mae)\n",
    "\n",
    "\n",
    "\n",
    "#group_split_evaluate(gpr, df_active, feature_cols, \"BindingEnergy\")"
   ]
  },
  {
   "cell_type": "code",
   "execution_count": 23,
   "metadata": {},
   "outputs": [
    {
     "ename": "NameError",
     "evalue": "name 'y_reg_test_group' is not defined",
     "output_type": "error",
     "traceback": [
      "\u001b[0;31m---------------------------------------------------------------------------\u001b[0m",
      "\u001b[0;31mNameError\u001b[0m                                 Traceback (most recent call last)",
      "\u001b[0;32m<ipython-input-23-684be9cfcc88>\u001b[0m in \u001b[0;36m<module>\u001b[0;34m\u001b[0m\n\u001b[0;32m----> 1\u001b[0;31m \u001b[0mr2_score\u001b[0m\u001b[0;34m(\u001b[0m\u001b[0my_reg_test_group\u001b[0m\u001b[0;34m,\u001b[0m \u001b[0my_reg_test_group_pred\u001b[0m\u001b[0;34m)\u001b[0m\u001b[0;34m\u001b[0m\u001b[0;34m\u001b[0m\u001b[0m\n\u001b[0m",
      "\u001b[0;31mNameError\u001b[0m: name 'y_reg_test_group' is not defined"
     ]
    }
   ],
   "source": [
    "r2_score(y_reg_test_group, y_reg_test_group_pred)"
   ]
  },
  {
   "cell_type": "code",
   "execution_count": null,
   "metadata": {},
   "outputs": [],
   "source": [
    "import matplotlib.pyplot as plt\n",
    "\n",
    "plt.scatter(y_reg_test_group, y_reg_test_group_pred)\n",
    "plt.plot([-1.1,0],[-1.1,0.], color=\"black\")\n",
    "plt.ylim([-1.1,0])\n",
    "plt.xlim([-1.1,0])\n",
    "plt.show()"
   ]
  },
  {
   "cell_type": "code",
   "execution_count": null,
   "metadata": {},
   "outputs": [],
   "source": []
  },
  {
   "cell_type": "code",
   "execution_count": null,
   "metadata": {},
   "outputs": [],
   "source": [
    "y_reg_test_group"
   ]
  },
  {
   "cell_type": "code",
   "execution_count": null,
   "metadata": {},
   "outputs": [],
   "source": [
    "y_reg_train_group.min()"
   ]
  },
  {
   "cell_type": "code",
   "execution_count": null,
   "metadata": {},
   "outputs": [],
   "source": [
    "y_pred = rfc.predict(X_test)"
   ]
  },
  {
   "cell_type": "code",
   "execution_count": null,
   "metadata": {},
   "outputs": [],
   "source": [
    "confusion_matrix(y_test, y_pred)"
   ]
  },
  {
   "cell_type": "code",
   "execution_count": null,
   "metadata": {},
   "outputs": [],
   "source": [
    "# Get indices of misclassified active sites\n",
    "X_test_y = X_test.copy()\n",
    "X_test_y[\"y_pred\"] = y_pred\n",
    "X_test_y[\"y_test\"] = y_test"
   ]
  },
  {
   "cell_type": "code",
   "execution_count": null,
   "metadata": {},
   "outputs": [],
   "source": [
    "X_test_y"
   ]
  },
  {
   "cell_type": "code",
   "execution_count": null,
   "metadata": {},
   "outputs": [],
   "source": [
    "dfy = df.merge(X_test_y[[\"y_pred\", \"y_test\"]], how=\"inner\", left_index=True, right_index=True)"
   ]
  },
  {
   "cell_type": "code",
   "execution_count": null,
   "metadata": {},
   "outputs": [],
   "source": [
    "dfy_miss = dfy[dfy[\"y_pred\"] != dfy[\"y_test\"]]\n",
    "dfy_false_pos = dfy_miss[dfy_miss[\"y_pred\"] == 1]\n",
    "dfy_false_neg = dfy_miss[dfy_miss[\"y_pred\"] == 0]"
   ]
  },
  {
   "cell_type": "code",
   "execution_count": null,
   "metadata": {},
   "outputs": [],
   "source": [
    "dfy_false_neg[[\"Atom Number\", \"Catalyst Name\", \"BindingEnergy\", \"IonizationEnergy\", \"SpinDensity\", \"AromaticExtent\", \"RingEdge\", \"DistanceToN\"]].sort_values(by=\"Catalyst Name\")"
   ]
  },
  {
   "cell_type": "code",
   "execution_count": null,
   "metadata": {
    "scrolled": true
   },
   "outputs": [],
   "source": [
    "dfy_false_pos[[\"Atom Number\", \"Catalyst Name\", \"BindingEnergy\", \"IonizationEnergy\", \"SpinDensity\", \"Meta\", \"OrthoOrPara\", \"DistanceToN\", \"NumberOfHydrogens\", \"AromaticExtent\", \"RingEdge\"]].sort_values(by=\"Catalyst Name\")"
   ]
  },
  {
   "cell_type": "code",
   "execution_count": null,
   "metadata": {},
   "outputs": [],
   "source": [
    "mlp = MLPClassifier(max_iter=20000, hidden_layer_sizes = (400,400,200,100,100), alpha=0.1)\n",
    "mlp.fit(X_train, y_train)\n",
    "print('Accuracy of MLP classifier on test set: {:.2f}'.format(mlp.score(X_test, y_test)))\n",
    "print('Accuracy of MLP classifier on training set: {:.2f}'.format(mlp.score(X_train, y_train)))\n",
    "#scores = cross_val_score(mlp, X, y, cv=10)\n",
    "#print(\"Accuracy: %0.2f (+/- %0.2f)\" % (scores.mean(), scores.std() * 2))"
   ]
  },
  {
   "cell_type": "code",
   "execution_count": null,
   "metadata": {},
   "outputs": [],
   "source": [
    "mlp = MLPClassifier(max_iter=15000, hidden_layer_sizes = (2048, 1024, 512, 15), alpha=0.1)\n",
    "mlp.fit(X_train, y_train)\n",
    "print('Accuracy of MLP classifier on test set: {:.2f}'.format(mlp.score(X_test, y_test)))\n",
    "print('Accuracy of MLP classifier on training set: {:.2f}'.format(mlp.score(X_train, y_train)))\n",
    "scores = cross_val_score(mlp, X, y, cv=10)\n",
    "print(\"Accuracy: %0.2f (+/- %0.2f)\" % (scores.mean(), scores.std() * 2))"
   ]
  },
  {
   "cell_type": "code",
   "execution_count": null,
   "metadata": {},
   "outputs": [],
   "source": []
  }
 ],
 "metadata": {
  "kernelspec": {
   "display_name": "Python 3",
   "language": "python",
   "name": "python3"
  },
  "language_info": {
   "codemirror_mode": {
    "name": "ipython",
    "version": 3
   },
   "file_extension": ".py",
   "mimetype": "text/x-python",
   "name": "python",
   "nbconvert_exporter": "python",
   "pygments_lexer": "ipython3",
   "version": "3.8.5"
  }
 },
 "nbformat": 4,
 "nbformat_minor": 2
}
