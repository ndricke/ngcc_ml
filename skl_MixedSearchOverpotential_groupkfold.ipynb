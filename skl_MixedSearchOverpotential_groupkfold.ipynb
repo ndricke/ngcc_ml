{
 "cells": [
  {
   "cell_type": "markdown",
   "metadata": {},
   "source": [
    "Notebook purpose: evaluate how efficiently we could search for catalysts using the ML model under various constraints.\n",
    "\n",
    "The most conspicuous constraint is to find a set number of active catalysts without any unnecessary DFT calculations\n",
    "What is unnecessary? --> 100% of O2 binding calculations are to actual binding sites\n",
    "So we can accept a model with lower accuracy as long as it has no false positives --> only a small penalty for false negatives\n",
    "\n",
    "Let's say we're only willing to run 5 DFT O2 binding calculations, and we want basically all of them to show that we found active sites. We'd probably want each of these to be per catalyst, to show that we've found 5 unique active catalysts. Assuming we're working with 10% of the data as a \"test\" set, that's about 27 calalysts, so we want to pick the ones that the model is most confident have at least 1 site that binds O2.\n",
    "\n",
    "Really, this is a question of whether the active sites for a set of catalysts are most likely to actually be binding\n",
    "Can order by log-loss and take that as an estimate of uncertainty (is that a fair expectation?)\n"
   ]
  },
  {
   "cell_type": "code",
   "execution_count": 1,
   "metadata": {},
   "outputs": [],
   "source": [
    "import pandas as pd\n",
    "import numpy as np\n",
    "import matplotlib.pyplot as plt\n",
    "\n",
    "# Preprocessing\n",
    "from sklearn.model_selection import GroupShuffleSplit\n",
    "from sklearn.model_selection import GroupKFold\n",
    "from sklearn.base import clone\n",
    "from sklearn.preprocessing import StandardScaler\n",
    "\n",
    "from sklearn.ensemble import RandomForestClassifier\n",
    "\n",
    "from sklearn.metrics import confusion_matrix\n",
    "\n",
    "from sklearn.metrics import r2_score\n",
    "from sklearn.metrics import mean_squared_error\n",
    "from sklearn.metrics import mean_absolute_error\n",
    "from sklearn.neural_network import MLPRegressor\n",
    "\n",
    "plt.rcParams.update({'font.size': 20})"
   ]
  },
  {
   "cell_type": "code",
   "execution_count": 2,
   "metadata": {},
   "outputs": [],
   "source": [
    "from ngcc_ml import data_tools\n",
    "from ngcc_ml import skl_tools"
   ]
  },
  {
   "cell_type": "code",
   "execution_count": 16,
   "metadata": {},
   "outputs": [],
   "source": [
    "def scale_data(train, test, feature_cols, target_col):\n",
    "        scaler = StandardScaler()\n",
    "        X_train_group = train[feature_cols]\n",
    "        X_test_group = test[feature_cols]\n",
    "        X_train_group = scaler.fit_transform(X_train_group)\n",
    "        X_test_group = scaler.transform(X_test_group)\n",
    "        y_test_group = test[target_col]\n",
    "        y_train_group = train[target_col]\n",
    "        return X_train_group, y_train_group, X_test_group, y_test_group\n",
    "\n",
    "\n",
    "def group_regression_kfold_evaluate(df, feature_cols, target_col=\"BindingEnergy\", n_splits=10, group_col=\"Catalyst Name\"):\n",
    "    \n",
    "    all_mae, all_mse, all_test = [], [], []\n",
    "    split_groups = GroupKFold(n_splits=n_splits).split(df[feature_cols], df[target_col], df[group_col])\n",
    "    for train_inds, test_inds in split_groups:\n",
    "        df_xy = df.copy()\n",
    "        model_kfg = MLPRegressor(max_iter=20000, hidden_layer_sizes=(512, 256, 128, 16), learning_rate=\"adaptive\")\n",
    "        train = df_xy.iloc[train_inds]\n",
    "        test = df_xy.iloc[test_inds]\n",
    "        X_train_group, y_train_group, X_test_group, y_test_group = scale_data(train, test, feature_cols, target_col)\n",
    "        model_kfg.fit(X_train_group, y_train_group)\n",
    "        score = model_kfg.score(X_test_group, y_test_group)\n",
    "        y_test_group_pred = model_kfg.predict(X_test_group)\n",
    "        test = test.assign(Overpotential_pred=y_test_group_pred)\n",
    "        mse = mean_squared_error(y_test_group, y_test_group_pred)\n",
    "        mae = mean_absolute_error(y_test_group, y_test_group_pred)\n",
    "        all_test.append(test)\n",
    "        all_mae.append(mae)\n",
    "        all_mse.append(mse)\n",
    "\n",
    "        print('MAE of MLP on test set: {:.4f}'.format(mae))\n",
    "    print(\"mean:\", np.mean(all_mae))\n",
    "    print(\"stdev:\", np.std(all_mae))\n",
    "    df_pred_aug = pd.concat(all_test)\n",
    "    return all_mse, all_mae, df_pred_aug\n",
    "\n",
    "\n",
    "def group_classification_kfold_evaluate(df, feature_cols, target_col=\"Doesitbind\", n_splits=10, group_col=\"Catalyst Name\"):\n",
    "    all_scores, all_test = [], []\n",
    "    split_groups = GroupKFold(n_splits=n_splits).split(df[feature_cols], df[target_col], df[group_col])\n",
    "    for train_inds, test_inds in split_groups:\n",
    "        model_kfg = RandomForestClassifier(n_estimators=1000, max_depth=100, class_weight={0:0.5, 1:0.5})\n",
    "        df_xy = df.copy()\n",
    "        train = df_xy.iloc[train_inds]\n",
    "        test = df_xy.iloc[test_inds]\n",
    "        X_train_group, y_train_group, X_test_group, y_test_group = scale_data(train, test, feature_cols, target_col)\n",
    "        model_kfg.fit(X_train_group, y_train_group)\n",
    "        score = model_kfg.score(X_test_group, y_test_group)\n",
    "        y_test_group_pred = model_kfg.predict(X_test_group)\n",
    "        test = test.assign(Doesitbind_pred=y_test_group_pred)\n",
    "        all_test.append(test)\n",
    "        all_scores.append(score)\n",
    "        print('Accuracy of model on test set: {:.4f}'.format(score))\n",
    "    df_pred_aug = pd.concat(all_test)\n",
    "    return all_scores, df_pred_aug"
   ]
  },
  {
   "cell_type": "code",
   "execution_count": 5,
   "metadata": {},
   "outputs": [],
   "source": [
    "df = pd.read_csv(\"/home/nricke/work/ngcc_ml/DidItBindv5.csv\", index_col=0)\n",
    "df[\"Doesitbind\"] = df[\"Doesitbind\"].astype(\"int\")\n",
    "df_op = pd.read_csv(\"/home/nricke/work/ngcc_ml/data/intermediate_dGrxn_overpotential.csv\", index_col=0)\n",
    "df_op.rename(columns={\"Catalyst\": \"Catalyst Name\"}, inplace=True)\n",
    "df_op[\"Atom Number\"] = df_op[\"Active_Site\"] + 1\n",
    "df_op[\"Catalyst Name\"] = \"sf\" + df_op[\"Catalyst Name\"]\n",
    "df_op_feat = df_op.merge(df, on=[\"Atom Number\", \"Catalyst Name\"])"
   ]
  },
  {
   "cell_type": "code",
   "execution_count": 24,
   "metadata": {},
   "outputs": [
    {
     "name": "stderr",
     "output_type": "stream",
     "text": [
      "<ipython-input-24-1334322e2b07>:5: SettingWithCopyWarning: \n",
      "A value is trying to be set on a copy of a slice from a DataFrame.\n",
      "Try using .loc[row_indexer,col_indexer] = value instead\n",
      "\n",
      "See the caveats in the documentation: https://pandas.pydata.org/pandas-docs/stable/user_guide/indexing.html#returning-a-view-versus-a-copy\n",
      "  df_inactive[\"Overpotential\"] = np.nan\n"
     ]
    }
   ],
   "source": [
    "# now get all rows of df that aren't in df_op_feat\n",
    "df[\"Catalyst-AtomNum\"] = df[\"Catalyst Name\"] + df[\"Atom Number\"].astype(str)\n",
    "df_op_feat[\"Catalyst-AtomNum\"] = df_op_feat[\"Catalyst Name\"] + df_op_feat[\"Atom Number\"].astype(str)\n",
    "df_inactive = df[~df[\"Catalyst-AtomNum\"].isin(df_op_feat[\"Catalyst-AtomNum\"].unique())]\n",
    "df_inactive[\"Overpotential\"] = np.nan"
   ]
  },
  {
   "cell_type": "code",
   "execution_count": 7,
   "metadata": {},
   "outputs": [
    {
     "name": "stdout",
     "output_type": "stream",
     "text": [
      "(4141, 36)\n",
      "(676, 49)\n",
      "(3465, 36)\n"
     ]
    }
   ],
   "source": [
    "print(df.shape)\n",
    "print(df_op_feat.shape)\n",
    "print(df_inactive.shape)"
   ]
  },
  {
   "cell_type": "code",
   "execution_count": 8,
   "metadata": {},
   "outputs": [
    {
     "data": {
      "text/html": [
       "<div>\n",
       "<style scoped>\n",
       "    .dataframe tbody tr th:only-of-type {\n",
       "        vertical-align: middle;\n",
       "    }\n",
       "\n",
       "    .dataframe tbody tr th {\n",
       "        vertical-align: top;\n",
       "    }\n",
       "\n",
       "    .dataframe thead th {\n",
       "        text-align: right;\n",
       "    }\n",
       "</style>\n",
       "<table border=\"1\" class=\"dataframe\">\n",
       "  <thead>\n",
       "    <tr style=\"text-align: right;\">\n",
       "      <th></th>\n",
       "      <th>Catalyst-AS</th>\n",
       "      <th>O</th>\n",
       "      <th>O2</th>\n",
       "      <th>OH</th>\n",
       "      <th>O2H</th>\n",
       "      <th>Catalyst Name</th>\n",
       "      <th>Energy</th>\n",
       "      <th>dGrxn_O2</th>\n",
       "      <th>dGrxn_O2H</th>\n",
       "      <th>dGrxn_O</th>\n",
       "      <th>...</th>\n",
       "      <th>NeighborChargeDifference</th>\n",
       "      <th>AromaticExtent</th>\n",
       "      <th>RingEdge</th>\n",
       "      <th>NumNitrogens</th>\n",
       "      <th>NumHeteroatoms</th>\n",
       "      <th>ring_nitrogens</th>\n",
       "      <th>atom_plane_deviation</th>\n",
       "      <th>ring_plane_deviation</th>\n",
       "      <th>charge</th>\n",
       "      <th>Catalyst-AtomNum</th>\n",
       "    </tr>\n",
       "  </thead>\n",
       "  <tbody>\n",
       "    <tr>\n",
       "      <th>0</th>\n",
       "      <td>100x0-2</td>\n",
       "      <td>-1280.914436</td>\n",
       "      <td>-1356.003159</td>\n",
       "      <td>-1281.579035</td>\n",
       "      <td>-1356.633806</td>\n",
       "      <td>sf100x0</td>\n",
       "      <td>-1205.807518</td>\n",
       "      <td>-0.744768</td>\n",
       "      <td>-1.742213</td>\n",
       "      <td>-1.358070</td>\n",
       "      <td>...</td>\n",
       "      <td>-0.005618</td>\n",
       "      <td>18</td>\n",
       "      <td>2</td>\n",
       "      <td>1</td>\n",
       "      <td>5</td>\n",
       "      <td>1</td>\n",
       "      <td>6.723311e-02</td>\n",
       "      <td>0.263086</td>\n",
       "      <td>0</td>\n",
       "      <td>sf100x03</td>\n",
       "    </tr>\n",
       "    <tr>\n",
       "      <th>1</th>\n",
       "      <td>101x0-11</td>\n",
       "      <td>-1184.855127</td>\n",
       "      <td>-1259.930361</td>\n",
       "      <td>-1185.510968</td>\n",
       "      <td>-1260.562253</td>\n",
       "      <td>sf101x0</td>\n",
       "      <td>-1109.752535</td>\n",
       "      <td>-0.260015</td>\n",
       "      <td>-1.291351</td>\n",
       "      <td>-1.691212</td>\n",
       "      <td>...</td>\n",
       "      <td>-0.001281</td>\n",
       "      <td>26</td>\n",
       "      <td>2</td>\n",
       "      <td>2</td>\n",
       "      <td>2</td>\n",
       "      <td>2</td>\n",
       "      <td>8.277000e-07</td>\n",
       "      <td>0.000003</td>\n",
       "      <td>1</td>\n",
       "      <td>sf101x012</td>\n",
       "    </tr>\n",
       "    <tr>\n",
       "      <th>2</th>\n",
       "      <td>101x0-13</td>\n",
       "      <td>-1184.855166</td>\n",
       "      <td>-1259.930279</td>\n",
       "      <td>-1185.510797</td>\n",
       "      <td>-1260.565391</td>\n",
       "      <td>sf101x0</td>\n",
       "      <td>-1109.752535</td>\n",
       "      <td>-0.257795</td>\n",
       "      <td>-1.376726</td>\n",
       "      <td>-1.606908</td>\n",
       "      <td>...</td>\n",
       "      <td>-0.001572</td>\n",
       "      <td>26</td>\n",
       "      <td>2</td>\n",
       "      <td>2</td>\n",
       "      <td>2</td>\n",
       "      <td>2</td>\n",
       "      <td>2.866000e-07</td>\n",
       "      <td>0.000003</td>\n",
       "      <td>1</td>\n",
       "      <td>sf101x014</td>\n",
       "    </tr>\n",
       "    <tr>\n",
       "      <th>3</th>\n",
       "      <td>101x0-2</td>\n",
       "      <td>-1184.855173</td>\n",
       "      <td>-1259.930371</td>\n",
       "      <td>-1185.506699</td>\n",
       "      <td>-1260.562253</td>\n",
       "      <td>sf101x0</td>\n",
       "      <td>-1109.752535</td>\n",
       "      <td>-0.260286</td>\n",
       "      <td>-1.291357</td>\n",
       "      <td>-1.692474</td>\n",
       "      <td>...</td>\n",
       "      <td>-0.000591</td>\n",
       "      <td>26</td>\n",
       "      <td>2</td>\n",
       "      <td>2</td>\n",
       "      <td>2</td>\n",
       "      <td>2</td>\n",
       "      <td>9.341000e-07</td>\n",
       "      <td>0.000003</td>\n",
       "      <td>1</td>\n",
       "      <td>sf101x03</td>\n",
       "    </tr>\n",
       "    <tr>\n",
       "      <th>4</th>\n",
       "      <td>101x0-24</td>\n",
       "      <td>-1184.855156</td>\n",
       "      <td>-1259.930173</td>\n",
       "      <td>-1185.507057</td>\n",
       "      <td>-1260.562049</td>\n",
       "      <td>sf101x0</td>\n",
       "      <td>-1109.752535</td>\n",
       "      <td>-0.254891</td>\n",
       "      <td>-1.285805</td>\n",
       "      <td>-1.697562</td>\n",
       "      <td>...</td>\n",
       "      <td>-0.000935</td>\n",
       "      <td>26</td>\n",
       "      <td>2</td>\n",
       "      <td>2</td>\n",
       "      <td>2</td>\n",
       "      <td>2</td>\n",
       "      <td>5.660000e-08</td>\n",
       "      <td>0.000003</td>\n",
       "      <td>1</td>\n",
       "      <td>sf101x025</td>\n",
       "    </tr>\n",
       "    <tr>\n",
       "      <th>...</th>\n",
       "      <td>...</td>\n",
       "      <td>...</td>\n",
       "      <td>...</td>\n",
       "      <td>...</td>\n",
       "      <td>...</td>\n",
       "      <td>...</td>\n",
       "      <td>...</td>\n",
       "      <td>...</td>\n",
       "      <td>...</td>\n",
       "      <td>...</td>\n",
       "      <td>...</td>\n",
       "      <td>...</td>\n",
       "      <td>...</td>\n",
       "      <td>...</td>\n",
       "      <td>...</td>\n",
       "      <td>...</td>\n",
       "      <td>...</td>\n",
       "      <td>...</td>\n",
       "      <td>...</td>\n",
       "      <td>...</td>\n",
       "      <td>...</td>\n",
       "    </tr>\n",
       "    <tr>\n",
       "      <th>671</th>\n",
       "      <td>94x0-8</td>\n",
       "      <td>-725.162751</td>\n",
       "      <td>-800.254837</td>\n",
       "      <td>-725.825515</td>\n",
       "      <td>-800.882777</td>\n",
       "      <td>sf94x0</td>\n",
       "      <td>-650.068231</td>\n",
       "      <td>-0.498935</td>\n",
       "      <td>-1.422713</td>\n",
       "      <td>-1.340210</td>\n",
       "      <td>...</td>\n",
       "      <td>-0.134508</td>\n",
       "      <td>14</td>\n",
       "      <td>2</td>\n",
       "      <td>2</td>\n",
       "      <td>2</td>\n",
       "      <td>1</td>\n",
       "      <td>3.394152e-01</td>\n",
       "      <td>0.047088</td>\n",
       "      <td>0</td>\n",
       "      <td>sf94x09</td>\n",
       "    </tr>\n",
       "    <tr>\n",
       "      <th>672</th>\n",
       "      <td>96x0-8</td>\n",
       "      <td>-725.160409</td>\n",
       "      <td>-800.247557</td>\n",
       "      <td>-725.828314</td>\n",
       "      <td>-800.883151</td>\n",
       "      <td>sf96x0</td>\n",
       "      <td>-650.068299</td>\n",
       "      <td>-0.299002</td>\n",
       "      <td>-1.431070</td>\n",
       "      <td>-1.266283</td>\n",
       "      <td>...</td>\n",
       "      <td>-0.133451</td>\n",
       "      <td>14</td>\n",
       "      <td>2</td>\n",
       "      <td>2</td>\n",
       "      <td>2</td>\n",
       "      <td>1</td>\n",
       "      <td>3.485028e-01</td>\n",
       "      <td>0.048038</td>\n",
       "      <td>0</td>\n",
       "      <td>sf96x09</td>\n",
       "    </tr>\n",
       "    <tr>\n",
       "      <th>673</th>\n",
       "      <td>97x0-8</td>\n",
       "      <td>-725.160393</td>\n",
       "      <td>-800.247550</td>\n",
       "      <td>-725.828330</td>\n",
       "      <td>-800.883179</td>\n",
       "      <td>sf97x0</td>\n",
       "      <td>-650.068271</td>\n",
       "      <td>-0.299543</td>\n",
       "      <td>-1.432556</td>\n",
       "      <td>-1.265096</td>\n",
       "      <td>...</td>\n",
       "      <td>-0.139417</td>\n",
       "      <td>14</td>\n",
       "      <td>2</td>\n",
       "      <td>2</td>\n",
       "      <td>2</td>\n",
       "      <td>1</td>\n",
       "      <td>3.478376e-01</td>\n",
       "      <td>0.048263</td>\n",
       "      <td>0</td>\n",
       "      <td>sf97x09</td>\n",
       "    </tr>\n",
       "    <tr>\n",
       "      <th>674</th>\n",
       "      <td>98x0-8</td>\n",
       "      <td>-725.164526</td>\n",
       "      <td>-800.250403</td>\n",
       "      <td>-725.827466</td>\n",
       "      <td>-800.885084</td>\n",
       "      <td>sf98x0</td>\n",
       "      <td>-650.067016</td>\n",
       "      <td>-0.411349</td>\n",
       "      <td>-1.518571</td>\n",
       "      <td>-1.325708</td>\n",
       "      <td>...</td>\n",
       "      <td>-0.178568</td>\n",
       "      <td>14</td>\n",
       "      <td>2</td>\n",
       "      <td>2</td>\n",
       "      <td>2</td>\n",
       "      <td>1</td>\n",
       "      <td>4.337075e-03</td>\n",
       "      <td>0.011512</td>\n",
       "      <td>0</td>\n",
       "      <td>sf98x09</td>\n",
       "    </tr>\n",
       "    <tr>\n",
       "      <th>675</th>\n",
       "      <td>99x0-8</td>\n",
       "      <td>-725.164479</td>\n",
       "      <td>-800.250393</td>\n",
       "      <td>-725.827432</td>\n",
       "      <td>-800.885143</td>\n",
       "      <td>sf99x0</td>\n",
       "      <td>-650.066976</td>\n",
       "      <td>-0.412169</td>\n",
       "      <td>-1.521249</td>\n",
       "      <td>-1.322854</td>\n",
       "      <td>...</td>\n",
       "      <td>-0.179132</td>\n",
       "      <td>14</td>\n",
       "      <td>2</td>\n",
       "      <td>2</td>\n",
       "      <td>2</td>\n",
       "      <td>1</td>\n",
       "      <td>4.184297e-03</td>\n",
       "      <td>0.011004</td>\n",
       "      <td>0</td>\n",
       "      <td>sf99x09</td>\n",
       "    </tr>\n",
       "  </tbody>\n",
       "</table>\n",
       "<p>676 rows × 49 columns</p>\n",
       "</div>"
      ],
      "text/plain": [
       "    Catalyst-AS            O           O2           OH          O2H  \\\n",
       "0       100x0-2 -1280.914436 -1356.003159 -1281.579035 -1356.633806   \n",
       "1      101x0-11 -1184.855127 -1259.930361 -1185.510968 -1260.562253   \n",
       "2      101x0-13 -1184.855166 -1259.930279 -1185.510797 -1260.565391   \n",
       "3       101x0-2 -1184.855173 -1259.930371 -1185.506699 -1260.562253   \n",
       "4      101x0-24 -1184.855156 -1259.930173 -1185.507057 -1260.562049   \n",
       "..          ...          ...          ...          ...          ...   \n",
       "671      94x0-8  -725.162751  -800.254837  -725.825515  -800.882777   \n",
       "672      96x0-8  -725.160409  -800.247557  -725.828314  -800.883151   \n",
       "673      97x0-8  -725.160393  -800.247550  -725.828330  -800.883179   \n",
       "674      98x0-8  -725.164526  -800.250403  -725.827466  -800.885084   \n",
       "675      99x0-8  -725.164479  -800.250393  -725.827432  -800.885143   \n",
       "\n",
       "    Catalyst Name       Energy  dGrxn_O2  dGrxn_O2H   dGrxn_O  ...  \\\n",
       "0         sf100x0 -1205.807518 -0.744768  -1.742213 -1.358070  ...   \n",
       "1         sf101x0 -1109.752535 -0.260015  -1.291351 -1.691212  ...   \n",
       "2         sf101x0 -1109.752535 -0.257795  -1.376726 -1.606908  ...   \n",
       "3         sf101x0 -1109.752535 -0.260286  -1.291357 -1.692474  ...   \n",
       "4         sf101x0 -1109.752535 -0.254891  -1.285805 -1.697562  ...   \n",
       "..            ...          ...       ...        ...       ...  ...   \n",
       "671        sf94x0  -650.068231 -0.498935  -1.422713 -1.340210  ...   \n",
       "672        sf96x0  -650.068299 -0.299002  -1.431070 -1.266283  ...   \n",
       "673        sf97x0  -650.068271 -0.299543  -1.432556 -1.265096  ...   \n",
       "674        sf98x0  -650.067016 -0.411349  -1.518571 -1.325708  ...   \n",
       "675        sf99x0  -650.066976 -0.412169  -1.521249 -1.322854  ...   \n",
       "\n",
       "     NeighborChargeDifference  AromaticExtent  RingEdge  NumNitrogens  \\\n",
       "0                   -0.005618              18         2             1   \n",
       "1                   -0.001281              26         2             2   \n",
       "2                   -0.001572              26         2             2   \n",
       "3                   -0.000591              26         2             2   \n",
       "4                   -0.000935              26         2             2   \n",
       "..                        ...             ...       ...           ...   \n",
       "671                 -0.134508              14         2             2   \n",
       "672                 -0.133451              14         2             2   \n",
       "673                 -0.139417              14         2             2   \n",
       "674                 -0.178568              14         2             2   \n",
       "675                 -0.179132              14         2             2   \n",
       "\n",
       "     NumHeteroatoms ring_nitrogens atom_plane_deviation  ring_plane_deviation  \\\n",
       "0                 5              1         6.723311e-02              0.263086   \n",
       "1                 2              2         8.277000e-07              0.000003   \n",
       "2                 2              2         2.866000e-07              0.000003   \n",
       "3                 2              2         9.341000e-07              0.000003   \n",
       "4                 2              2         5.660000e-08              0.000003   \n",
       "..              ...            ...                  ...                   ...   \n",
       "671               2              1         3.394152e-01              0.047088   \n",
       "672               2              1         3.485028e-01              0.048038   \n",
       "673               2              1         3.478376e-01              0.048263   \n",
       "674               2              1         4.337075e-03              0.011512   \n",
       "675               2              1         4.184297e-03              0.011004   \n",
       "\n",
       "     charge  Catalyst-AtomNum  \n",
       "0         0          sf100x03  \n",
       "1         1         sf101x012  \n",
       "2         1         sf101x014  \n",
       "3         1          sf101x03  \n",
       "4         1         sf101x025  \n",
       "..      ...               ...  \n",
       "671       0           sf94x09  \n",
       "672       0           sf96x09  \n",
       "673       0           sf97x09  \n",
       "674       0           sf98x09  \n",
       "675       0           sf99x09  \n",
       "\n",
       "[676 rows x 49 columns]"
      ]
     },
     "execution_count": 8,
     "metadata": {},
     "output_type": "execute_result"
    }
   ],
   "source": [
    "df_op_feat"
   ]
  },
  {
   "cell_type": "code",
   "execution_count": 9,
   "metadata": {},
   "outputs": [],
   "source": [
    "feature_cols = {\"SpinDensity\", \"ChElPGNeutralCharge\", \"ChargeDifference\", \"IonizationEnergy\", \"OrthoOrPara\", \"Meta\", \"FartherThanPara\", \"DistanceToN\", \"AverageBondLength\",  \"NumberOfHydrogens\", \"IsInRingSize6\", \"IsInRingSize5\", \"NeighborSpinDensity\", 'NeighborChElPGCharge', 'NeighborChargeDifference', \"AromaticExtent\", \"RingEdge\", \"NumNitrogens\", \"NumHeteroatoms\", \"charge\", \"atom_plane_deviation\", \"ring_plane_deviation\", \"ring_nitrogens\"}\n",
    "not_scaled_cols = {\"OrthoOrPara\", \"Meta\", \"FartherThanPara\", \"NumberOfHydrogens\", \"IsInRingSize6\", \"IsInRingSize5\", \"RingEdge\", \"NumNitrogens\", \"NumHeteroatoms\", \"ring_nitrogens\", \"charge\"}"
   ]
  },
  {
   "cell_type": "code",
   "execution_count": 10,
   "metadata": {},
   "outputs": [
    {
     "name": "stdout",
     "output_type": "stream",
     "text": [
      "Accuracy of model on test set: 0.9615\n",
      "Accuracy of model on test set: 0.9519\n",
      "Accuracy of model on test set: 0.9423\n",
      "Accuracy of model on test set: 0.9585\n",
      "Accuracy of model on test set: 0.9659\n",
      "Accuracy of model on test set: 0.9537\n",
      "Accuracy of model on test set: 0.9495\n",
      "Accuracy of model on test set: 0.9567\n",
      "Accuracy of model on test set: 0.9399\n",
      "Accuracy of model on test set: 0.9518\n"
     ]
    }
   ],
   "source": [
    "gkf_scores, df_gkf_class = group_classification_kfold_evaluate(df, feature_cols)"
   ]
  },
  {
   "cell_type": "code",
   "execution_count": 17,
   "metadata": {},
   "outputs": [
    {
     "name": "stdout",
     "output_type": "stream",
     "text": [
      "MAE of MLP on test set: 0.0883\n",
      "MAE of MLP on test set: 0.0985\n",
      "MAE of MLP on test set: 0.0700\n",
      "MAE of MLP on test set: 0.0935\n",
      "MAE of MLP on test set: 0.1478\n",
      "MAE of MLP on test set: 0.1072\n",
      "MAE of MLP on test set: 0.0858\n",
      "MAE of MLP on test set: 0.0742\n",
      "MAE of MLP on test set: 0.0624\n",
      "MAE of MLP on test set: 0.0904\n",
      "mean: 0.09180782911960818\n",
      "stdev: 0.022632544467554274\n"
     ]
    }
   ],
   "source": [
    "#tc = \"dGrxn_O2H\"\n",
    "#tc = \"dGrxn_regen\"\n",
    "tc = \"Overpotential\"\n",
    "gkf_mse_spec, gkf_mae_spec, df_gkf_spec = group_regression_kfold_evaluate(df_op_feat, feature_cols, target_col=tc)"
   ]
  },
  {
   "cell_type": "code",
   "execution_count": 120,
   "metadata": {},
   "outputs": [
    {
     "name": "stdout",
     "output_type": "stream",
     "text": [
      "267 267\n"
     ]
    }
   ],
   "source": [
    "print(len(df[\"Catalyst Name\"].unique()), len(df_gkf_class[\"Catalyst Name\"].unique()))"
   ]
  },
  {
   "cell_type": "code",
   "execution_count": 11,
   "metadata": {},
   "outputs": [
    {
     "name": "stdout",
     "output_type": "stream",
     "text": [
      "0.9522128523474761 0.007203540989839196\n",
      "0.07719178112603735 0.014168594846641205\n"
     ]
    }
   ],
   "source": [
    "print(np.mean(gkf_scores), np.std(gkf_scores))\n",
    "print(np.mean(gkf_mae_spec), np.std(gkf_mae_spec))"
   ]
  },
  {
   "cell_type": "code",
   "execution_count": 74,
   "metadata": {},
   "outputs": [],
   "source": [
    "df_gkf_spec.to_csv(\"df_BindingEnergy_pred.csv\")\n",
    "df_gkf_class.to_csv(\"df_Doesitbind_pred.csv\")"
   ]
  },
  {
   "cell_type": "code",
   "execution_count": 42,
   "metadata": {},
   "outputs": [
    {
     "name": "stdout",
     "output_type": "stream",
     "text": [
      "(4141, 37) (739, 37)\n"
     ]
    }
   ],
   "source": [
    "print(df_gkf_class.shape, df_gkf_spec.shape)"
   ]
  },
  {
   "cell_type": "code",
   "execution_count": 13,
   "metadata": {},
   "outputs": [
    {
     "data": {
      "text/html": [
       "<div>\n",
       "<style scoped>\n",
       "    .dataframe tbody tr th:only-of-type {\n",
       "        vertical-align: middle;\n",
       "    }\n",
       "\n",
       "    .dataframe tbody tr th {\n",
       "        vertical-align: top;\n",
       "    }\n",
       "\n",
       "    .dataframe thead th {\n",
       "        text-align: right;\n",
       "    }\n",
       "</style>\n",
       "<table border=\"1\" class=\"dataframe\">\n",
       "  <thead>\n",
       "    <tr style=\"text-align: right;\">\n",
       "      <th></th>\n",
       "      <th>Unnamed: 0</th>\n",
       "      <th>Atom Number</th>\n",
       "      <th>Catalyst Name</th>\n",
       "      <th>CatalystO2File</th>\n",
       "      <th>Element</th>\n",
       "      <th>SpinDensity</th>\n",
       "      <th>ChElPGPositiveCharge</th>\n",
       "      <th>ChElPGNeutralCharge</th>\n",
       "      <th>ChargeDifference</th>\n",
       "      <th>Doesitbind</th>\n",
       "      <th>...</th>\n",
       "      <th>NeighborChElPGCharge</th>\n",
       "      <th>NeighborChargeDifference</th>\n",
       "      <th>AromaticExtent</th>\n",
       "      <th>RingEdge</th>\n",
       "      <th>NumNitrogens</th>\n",
       "      <th>NumHeteroatoms</th>\n",
       "      <th>ring_nitrogens</th>\n",
       "      <th>atom_plane_deviation</th>\n",
       "      <th>ring_plane_deviation</th>\n",
       "      <th>charge</th>\n",
       "    </tr>\n",
       "  </thead>\n",
       "  <tbody>\n",
       "  </tbody>\n",
       "</table>\n",
       "<p>0 rows × 36 columns</p>\n",
       "</div>"
      ],
      "text/plain": [
       "Empty DataFrame\n",
       "Columns: [Unnamed: 0, Atom Number, Catalyst Name, CatalystO2File, Element, SpinDensity, ChElPGPositiveCharge, ChElPGNeutralCharge, ChargeDifference, Doesitbind, BondLength, IonizedFreeEnergy, IonizationEnergy, BindingEnergy, NeutralFreeEnergy, OrthoOrPara, Meta, FartherThanPara, DistanceToN, AverageBondLength, BondLengthRange, NumberOfHydrogens, AromaticSize, IsInRingSize6, IsInRingSize5, NeighborSpinDensity, NeighborChElPGCharge, NeighborChargeDifference, AromaticExtent, RingEdge, NumNitrogens, NumHeteroatoms, ring_nitrogens, atom_plane_deviation, ring_plane_deviation, charge]\n",
       "Index: []\n",
       "\n",
       "[0 rows x 36 columns]"
      ]
     },
     "execution_count": 13,
     "metadata": {},
     "output_type": "execute_result"
    }
   ],
   "source": [
    "df[df[[\"Catalyst Name\", \"Atom Number\"]].duplicated()]"
   ]
  },
  {
   "cell_type": "code",
   "execution_count": 14,
   "metadata": {},
   "outputs": [
    {
     "data": {
      "text/html": [
       "<div>\n",
       "<style scoped>\n",
       "    .dataframe tbody tr th:only-of-type {\n",
       "        vertical-align: middle;\n",
       "    }\n",
       "\n",
       "    .dataframe tbody tr th {\n",
       "        vertical-align: top;\n",
       "    }\n",
       "\n",
       "    .dataframe thead th {\n",
       "        text-align: right;\n",
       "    }\n",
       "</style>\n",
       "<table border=\"1\" class=\"dataframe\">\n",
       "  <thead>\n",
       "    <tr style=\"text-align: right;\">\n",
       "      <th></th>\n",
       "      <th>Unnamed: 0</th>\n",
       "      <th>Atom Number</th>\n",
       "      <th>Catalyst Name</th>\n",
       "      <th>CatalystO2File</th>\n",
       "      <th>Element</th>\n",
       "      <th>SpinDensity</th>\n",
       "      <th>ChElPGPositiveCharge</th>\n",
       "      <th>ChElPGNeutralCharge</th>\n",
       "      <th>ChargeDifference</th>\n",
       "      <th>Doesitbind</th>\n",
       "      <th>...</th>\n",
       "      <th>NeighborChargeDifference</th>\n",
       "      <th>AromaticExtent</th>\n",
       "      <th>RingEdge</th>\n",
       "      <th>NumNitrogens</th>\n",
       "      <th>NumHeteroatoms</th>\n",
       "      <th>ring_nitrogens</th>\n",
       "      <th>atom_plane_deviation</th>\n",
       "      <th>ring_plane_deviation</th>\n",
       "      <th>charge</th>\n",
       "      <th>Doesitbind_pred</th>\n",
       "    </tr>\n",
       "  </thead>\n",
       "  <tbody>\n",
       "  </tbody>\n",
       "</table>\n",
       "<p>0 rows × 37 columns</p>\n",
       "</div>"
      ],
      "text/plain": [
       "Empty DataFrame\n",
       "Columns: [Unnamed: 0, Atom Number, Catalyst Name, CatalystO2File, Element, SpinDensity, ChElPGPositiveCharge, ChElPGNeutralCharge, ChargeDifference, Doesitbind, BondLength, IonizedFreeEnergy, IonizationEnergy, BindingEnergy, NeutralFreeEnergy, OrthoOrPara, Meta, FartherThanPara, DistanceToN, AverageBondLength, BondLengthRange, NumberOfHydrogens, AromaticSize, IsInRingSize6, IsInRingSize5, NeighborSpinDensity, NeighborChElPGCharge, NeighborChargeDifference, AromaticExtent, RingEdge, NumNitrogens, NumHeteroatoms, ring_nitrogens, atom_plane_deviation, ring_plane_deviation, charge, Doesitbind_pred]\n",
       "Index: []\n",
       "\n",
       "[0 rows x 37 columns]"
      ]
     },
     "execution_count": 14,
     "metadata": {},
     "output_type": "execute_result"
    }
   ],
   "source": [
    "df_gkf_class[df_gkf_class[[\"Catalyst Name\", \"Atom Number\"]].duplicated()]"
   ]
  },
  {
   "cell_type": "code",
   "execution_count": 25,
   "metadata": {},
   "outputs": [],
   "source": [
    "# fill df_gkf_class BindingEnergy_pred with values from df_gkf_spec and model predictions on df_inactive\n",
    "BE_relevant_cols = [\"Catalyst Name\", \"Atom Number\", \"Overpotential\", \"Overpotential_pred\"]\n",
    "\n",
    "model = MLPRegressor(max_iter=30000, hidden_layer_sizes=(512, 256, 128, 16), learning_rate=\"adaptive\")\n",
    "\n",
    "X_train_group = df_op_feat[feature_cols]\n",
    "X_test_group = df_inactive[feature_cols]\n",
    "y_train_group = df_op_feat[\"Overpotential\"]\n",
    "\n",
    "scaler = StandardScaler()\n",
    "X_train_group = scaler.fit_transform(X_train_group)\n",
    "X_test_group = scaler.transform(X_test_group)\n",
    "\n",
    "model.fit(X_train_group, y_train_group)\n",
    "y_pred = model.predict(X_test_group)\n",
    "\n",
    "df_inactive = df_inactive.assign(Overpotential_pred=y_pred)\n",
    "inactive_pred = df_inactive[BE_relevant_cols]\n",
    "active_pred = df_gkf_spec[BE_relevant_cols]\n",
    "BE_pred = pd.concat([inactive_pred, active_pred])"
   ]
  },
  {
   "cell_type": "code",
   "execution_count": 27,
   "metadata": {},
   "outputs": [],
   "source": [
    "df_gkf_merge = df_gkf_class.merge(BE_pred, on=[\"Catalyst Name\", \"Atom Number\"], suffixes=[\"\",\"_inactive\"])"
   ]
  },
  {
   "cell_type": "code",
   "execution_count": 28,
   "metadata": {},
   "outputs": [
    {
     "data": {
      "text/plain": [
       "(4141, 39)"
      ]
     },
     "execution_count": 28,
     "metadata": {},
     "output_type": "execute_result"
    }
   ],
   "source": [
    "df_gkf_merge.shape"
   ]
  },
  {
   "cell_type": "code",
   "execution_count": 35,
   "metadata": {},
   "outputs": [
    {
     "data": {
      "text/plain": [
       "False    4141\n",
       "Name: Overpotential_pred, dtype: int64"
      ]
     },
     "execution_count": 35,
     "metadata": {},
     "output_type": "execute_result"
    }
   ],
   "source": [
    "df_gkf_merge[\"Overpotential_pred\"].isna().value_counts()"
   ]
  },
  {
   "cell_type": "code",
   "execution_count": 36,
   "metadata": {},
   "outputs": [],
   "source": [
    "df_gkf_merge.loc[df_gkf_merge['Doesitbind'] == 0, 'Overpotential'] = 2.0"
   ]
  },
  {
   "cell_type": "code",
   "execution_count": 37,
   "metadata": {},
   "outputs": [
    {
     "data": {
      "text/plain": [
       "Index(['Atom Number', 'Catalyst Name', 'CatalystO2File', 'Element',\n",
       "       'SpinDensity', 'ChElPGPositiveCharge', 'ChElPGNeutralCharge',\n",
       "       'ChargeDifference', 'Doesitbind', 'BondLength', 'IonizedFreeEnergy',\n",
       "       'IonizationEnergy', 'BindingEnergy', 'NeutralFreeEnergy', 'OrthoOrPara',\n",
       "       'Meta', 'FartherThanPara', 'DistanceToN', 'AverageBondLength',\n",
       "       'BondLengthRange', 'NumberOfHydrogens', 'AromaticSize', 'IsInRingSize6',\n",
       "       'IsInRingSize5', 'NeighborSpinDensity', 'NeighborChElPGCharge',\n",
       "       'NeighborChargeDifference', 'AromaticExtent', 'RingEdge',\n",
       "       'NumNitrogens', 'NumHeteroatoms', 'ring_nitrogens',\n",
       "       'atom_plane_deviation', 'ring_plane_deviation', 'charge',\n",
       "       'Catalyst-AtomNum', 'Doesitbind_pred', 'Overpotential',\n",
       "       'Overpotential_pred'],\n",
       "      dtype='object')"
      ]
     },
     "execution_count": 37,
     "metadata": {},
     "output_type": "execute_result"
    }
   ],
   "source": [
    "df_gkf_merge.columns"
   ]
  },
  {
   "cell_type": "markdown",
   "metadata": {},
   "source": [
    "The situation is a little different now than before, as the model has only made predictions on the sites that are known to be active. To really put together both the classification and regression algorithms, we need to make regression predictions for the inactive sites as well.\n",
    "\n",
    "1. If we don't train on inactive data, what do the predictions on the inactive sites look like?\n",
    "2. If we set a fixed value for the inactive data and train on that, does that have a negative effect on the accuracy for predicting on the active sites?"
   ]
  },
  {
   "cell_type": "code",
   "execution_count": 46,
   "metadata": {},
   "outputs": [
    {
     "data": {
      "text/html": [
       "<div>\n",
       "<style scoped>\n",
       "    .dataframe tbody tr th:only-of-type {\n",
       "        vertical-align: middle;\n",
       "    }\n",
       "\n",
       "    .dataframe tbody tr th {\n",
       "        vertical-align: top;\n",
       "    }\n",
       "\n",
       "    .dataframe thead th {\n",
       "        text-align: right;\n",
       "    }\n",
       "</style>\n",
       "<table border=\"1\" class=\"dataframe\">\n",
       "  <thead>\n",
       "    <tr style=\"text-align: right;\">\n",
       "      <th></th>\n",
       "      <th>Atom Number</th>\n",
       "      <th>Catalyst Name</th>\n",
       "      <th>Doesitbind</th>\n",
       "      <th>Overpotential</th>\n",
       "      <th>actual_rank</th>\n",
       "      <th>BindingEnergy</th>\n",
       "    </tr>\n",
       "  </thead>\n",
       "  <tbody>\n",
       "    <tr>\n",
       "      <th>2265</th>\n",
       "      <td>13</td>\n",
       "      <td>sf19x1</td>\n",
       "      <td>1</td>\n",
       "      <td>-0.818237</td>\n",
       "      <td>0</td>\n",
       "      <td>-0.120009</td>\n",
       "    </tr>\n",
       "    <tr>\n",
       "      <th>2101</th>\n",
       "      <td>8</td>\n",
       "      <td>sf139x0</td>\n",
       "      <td>1</td>\n",
       "      <td>-0.811649</td>\n",
       "      <td>1</td>\n",
       "      <td>-0.117149</td>\n",
       "    </tr>\n",
       "    <tr>\n",
       "      <th>2495</th>\n",
       "      <td>9</td>\n",
       "      <td>sf122x0</td>\n",
       "      <td>1</td>\n",
       "      <td>-0.804753</td>\n",
       "      <td>2</td>\n",
       "      <td>-0.110626</td>\n",
       "    </tr>\n",
       "    <tr>\n",
       "      <th>2848</th>\n",
       "      <td>16</td>\n",
       "      <td>sf82x0</td>\n",
       "      <td>1</td>\n",
       "      <td>-0.791911</td>\n",
       "      <td>3</td>\n",
       "      <td>-0.139696</td>\n",
       "    </tr>\n",
       "    <tr>\n",
       "      <th>452</th>\n",
       "      <td>5</td>\n",
       "      <td>sf127x0</td>\n",
       "      <td>1</td>\n",
       "      <td>-0.789254</td>\n",
       "      <td>4</td>\n",
       "      <td>-0.121179</td>\n",
       "    </tr>\n",
       "    <tr>\n",
       "      <th>3412</th>\n",
       "      <td>7</td>\n",
       "      <td>sf196x0</td>\n",
       "      <td>1</td>\n",
       "      <td>-0.779399</td>\n",
       "      <td>5</td>\n",
       "      <td>-0.112820</td>\n",
       "    </tr>\n",
       "    <tr>\n",
       "      <th>3945</th>\n",
       "      <td>11</td>\n",
       "      <td>sf23x1</td>\n",
       "      <td>1</td>\n",
       "      <td>-0.778850</td>\n",
       "      <td>6</td>\n",
       "      <td>-0.168765</td>\n",
       "    </tr>\n",
       "    <tr>\n",
       "      <th>2578</th>\n",
       "      <td>4</td>\n",
       "      <td>sf167x0</td>\n",
       "      <td>1</td>\n",
       "      <td>-0.769447</td>\n",
       "      <td>7</td>\n",
       "      <td>-0.148545</td>\n",
       "    </tr>\n",
       "    <tr>\n",
       "      <th>2766</th>\n",
       "      <td>6</td>\n",
       "      <td>sf250x0</td>\n",
       "      <td>1</td>\n",
       "      <td>-0.763502</td>\n",
       "      <td>8</td>\n",
       "      <td>-0.139775</td>\n",
       "    </tr>\n",
       "    <tr>\n",
       "      <th>3942</th>\n",
       "      <td>8</td>\n",
       "      <td>sf23x1</td>\n",
       "      <td>1</td>\n",
       "      <td>-0.757450</td>\n",
       "      <td>9</td>\n",
       "      <td>-0.114422</td>\n",
       "    </tr>\n",
       "    <tr>\n",
       "      <th>3531</th>\n",
       "      <td>10</td>\n",
       "      <td>sf265x0</td>\n",
       "      <td>1</td>\n",
       "      <td>-0.757405</td>\n",
       "      <td>10</td>\n",
       "      <td>-0.125478</td>\n",
       "    </tr>\n",
       "    <tr>\n",
       "      <th>3862</th>\n",
       "      <td>10</td>\n",
       "      <td>sf173x0</td>\n",
       "      <td>1</td>\n",
       "      <td>-0.755734</td>\n",
       "      <td>11</td>\n",
       "      <td>-0.505308</td>\n",
       "    </tr>\n",
       "    <tr>\n",
       "      <th>463</th>\n",
       "      <td>17</td>\n",
       "      <td>sf127x0</td>\n",
       "      <td>1</td>\n",
       "      <td>-0.750727</td>\n",
       "      <td>12</td>\n",
       "      <td>-0.156379</td>\n",
       "    </tr>\n",
       "    <tr>\n",
       "      <th>2754</th>\n",
       "      <td>9</td>\n",
       "      <td>sf247x0</td>\n",
       "      <td>1</td>\n",
       "      <td>-0.743373</td>\n",
       "      <td>13</td>\n",
       "      <td>-0.129432</td>\n",
       "    </tr>\n",
       "    <tr>\n",
       "      <th>3616</th>\n",
       "      <td>11</td>\n",
       "      <td>sf32x1</td>\n",
       "      <td>1</td>\n",
       "      <td>-0.740443</td>\n",
       "      <td>14</td>\n",
       "      <td>-0.101361</td>\n",
       "    </tr>\n",
       "    <tr>\n",
       "      <th>1048</th>\n",
       "      <td>13</td>\n",
       "      <td>sf21x1</td>\n",
       "      <td>1</td>\n",
       "      <td>-0.739889</td>\n",
       "      <td>15</td>\n",
       "      <td>-0.131345</td>\n",
       "    </tr>\n",
       "    <tr>\n",
       "      <th>2662</th>\n",
       "      <td>6</td>\n",
       "      <td>sf199x0</td>\n",
       "      <td>1</td>\n",
       "      <td>-0.732792</td>\n",
       "      <td>16</td>\n",
       "      <td>-0.230216</td>\n",
       "    </tr>\n",
       "    <tr>\n",
       "      <th>1692</th>\n",
       "      <td>8</td>\n",
       "      <td>sf135x0</td>\n",
       "      <td>1</td>\n",
       "      <td>-0.730866</td>\n",
       "      <td>17</td>\n",
       "      <td>-0.194284</td>\n",
       "    </tr>\n",
       "    <tr>\n",
       "      <th>1736</th>\n",
       "      <td>3</td>\n",
       "      <td>sf143x0</td>\n",
       "      <td>1</td>\n",
       "      <td>-0.720100</td>\n",
       "      <td>18</td>\n",
       "      <td>-0.182526</td>\n",
       "    </tr>\n",
       "  </tbody>\n",
       "</table>\n",
       "</div>"
      ],
      "text/plain": [
       "      Atom Number Catalyst Name  Doesitbind  Overpotential  actual_rank  \\\n",
       "2265           13        sf19x1           1      -0.818237            0   \n",
       "2101            8       sf139x0           1      -0.811649            1   \n",
       "2495            9       sf122x0           1      -0.804753            2   \n",
       "2848           16        sf82x0           1      -0.791911            3   \n",
       "452             5       sf127x0           1      -0.789254            4   \n",
       "3412            7       sf196x0           1      -0.779399            5   \n",
       "3945           11        sf23x1           1      -0.778850            6   \n",
       "2578            4       sf167x0           1      -0.769447            7   \n",
       "2766            6       sf250x0           1      -0.763502            8   \n",
       "3942            8        sf23x1           1      -0.757450            9   \n",
       "3531           10       sf265x0           1      -0.757405           10   \n",
       "3862           10       sf173x0           1      -0.755734           11   \n",
       "463            17       sf127x0           1      -0.750727           12   \n",
       "2754            9       sf247x0           1      -0.743373           13   \n",
       "3616           11        sf32x1           1      -0.740443           14   \n",
       "1048           13        sf21x1           1      -0.739889           15   \n",
       "2662            6       sf199x0           1      -0.732792           16   \n",
       "1692            8       sf135x0           1      -0.730866           17   \n",
       "1736            3       sf143x0           1      -0.720100           18   \n",
       "\n",
       "      BindingEnergy  \n",
       "2265      -0.120009  \n",
       "2101      -0.117149  \n",
       "2495      -0.110626  \n",
       "2848      -0.139696  \n",
       "452       -0.121179  \n",
       "3412      -0.112820  \n",
       "3945      -0.168765  \n",
       "2578      -0.148545  \n",
       "2766      -0.139775  \n",
       "3942      -0.114422  \n",
       "3531      -0.125478  \n",
       "3862      -0.505308  \n",
       "463       -0.156379  \n",
       "2754      -0.129432  \n",
       "3616      -0.101361  \n",
       "1048      -0.131345  \n",
       "2662      -0.230216  \n",
       "1692      -0.194284  \n",
       "1736      -0.182526  "
      ]
     },
     "execution_count": 46,
     "metadata": {},
     "output_type": "execute_result"
    }
   ],
   "source": [
    "df_ts = df_gkf_merge.copy()\n",
    "df_ts = df_ts.sort_values(by=[\"Overpotential\"])\n",
    "df_ts = df_ts.assign(actual_rank=range(df_ts.shape[0]))\n",
    "df_ts[df_ts[\"Overpotential\"] <= -0.72][[\"Atom Number\", \"Catalyst Name\", \"Doesitbind\", \"Overpotential\", \"actual_rank\", \"BindingEnergy\"]]"
   ]
  },
  {
   "cell_type": "code",
   "execution_count": 44,
   "metadata": {},
   "outputs": [
    {
     "data": {
      "text/plain": [
       "(4141, 40)"
      ]
     },
     "execution_count": 44,
     "metadata": {},
     "output_type": "execute_result"
    }
   ],
   "source": [
    "df_ts.shape"
   ]
  },
  {
   "cell_type": "code",
   "execution_count": 45,
   "metadata": {},
   "outputs": [
    {
     "name": "stdout",
     "output_type": "stream",
     "text": [
      "(653, 40)\n",
      "(653, 41)\n"
     ]
    }
   ],
   "source": [
    "df_ts_predict_bind = df_ts[df_ts[\"Doesitbind_pred\"] == 1]\n",
    "print(df_ts_predict_bind.shape)\n",
    "df_ts_predict_bind = df_ts_predict_bind.sort_values(by=\"Overpotential_pred\")\n",
    "df_ts_predict_bind = df_ts_predict_bind.assign(pred_rank=range(df_ts_predict_bind.shape[0]))\n",
    "print(df_ts_predict_bind.shape)"
   ]
  },
  {
   "cell_type": "code",
   "execution_count": 41,
   "metadata": {},
   "outputs": [],
   "source": [
    "df_ts_pred_head = df_ts_predict_bind.sort_values(by=[\"Overpotential\"]).head(19)[[\"Catalyst Name\", \"Atom Number\", \"pred_rank\", \"actual_rank\"]]\n",
    "df_ts_pred_head = df_ts_pred_head[df_ts_pred_head[\"actual_rank\"] <= 18]"
   ]
  },
  {
   "cell_type": "code",
   "execution_count": 42,
   "metadata": {},
   "outputs": [
    {
     "data": {
      "text/html": [
       "<div>\n",
       "<style scoped>\n",
       "    .dataframe tbody tr th:only-of-type {\n",
       "        vertical-align: middle;\n",
       "    }\n",
       "\n",
       "    .dataframe tbody tr th {\n",
       "        vertical-align: top;\n",
       "    }\n",
       "\n",
       "    .dataframe thead th {\n",
       "        text-align: right;\n",
       "    }\n",
       "</style>\n",
       "<table border=\"1\" class=\"dataframe\">\n",
       "  <thead>\n",
       "    <tr style=\"text-align: right;\">\n",
       "      <th></th>\n",
       "      <th>Catalyst Name</th>\n",
       "      <th>Atom Number</th>\n",
       "      <th>pred_rank</th>\n",
       "      <th>actual_rank</th>\n",
       "    </tr>\n",
       "  </thead>\n",
       "  <tbody>\n",
       "    <tr>\n",
       "      <th>1692</th>\n",
       "      <td>sf135x0</td>\n",
       "      <td>8</td>\n",
       "      <td>3</td>\n",
       "      <td>17</td>\n",
       "    </tr>\n",
       "    <tr>\n",
       "      <th>2848</th>\n",
       "      <td>sf82x0</td>\n",
       "      <td>16</td>\n",
       "      <td>7</td>\n",
       "      <td>3</td>\n",
       "    </tr>\n",
       "    <tr>\n",
       "      <th>2578</th>\n",
       "      <td>sf167x0</td>\n",
       "      <td>4</td>\n",
       "      <td>8</td>\n",
       "      <td>7</td>\n",
       "    </tr>\n",
       "    <tr>\n",
       "      <th>1736</th>\n",
       "      <td>sf143x0</td>\n",
       "      <td>3</td>\n",
       "      <td>16</td>\n",
       "      <td>18</td>\n",
       "    </tr>\n",
       "    <tr>\n",
       "      <th>2265</th>\n",
       "      <td>sf19x1</td>\n",
       "      <td>13</td>\n",
       "      <td>46</td>\n",
       "      <td>0</td>\n",
       "    </tr>\n",
       "    <tr>\n",
       "      <th>2766</th>\n",
       "      <td>sf250x0</td>\n",
       "      <td>6</td>\n",
       "      <td>131</td>\n",
       "      <td>8</td>\n",
       "    </tr>\n",
       "  </tbody>\n",
       "</table>\n",
       "</div>"
      ],
      "text/plain": [
       "     Catalyst Name  Atom Number  pred_rank  actual_rank\n",
       "1692       sf135x0            8          3           17\n",
       "2848        sf82x0           16          7            3\n",
       "2578       sf167x0            4          8            7\n",
       "1736       sf143x0            3         16           18\n",
       "2265        sf19x1           13         46            0\n",
       "2766       sf250x0            6        131            8"
      ]
     },
     "execution_count": 42,
     "metadata": {},
     "output_type": "execute_result"
    }
   ],
   "source": [
    "df_ts_pred_head = df_ts_pred_head.sort_values(by=\"pred_rank\")\n",
    "df_ts_pred_head"
   ]
  },
  {
   "cell_type": "code",
   "execution_count": 72,
   "metadata": {},
   "outputs": [],
   "source": [
    "ts_rr_all = []\n",
    "nsims = 1000\n",
    "for j in range(nsims):\n",
    "    df_ts_rand = df_ts.assign(random_ordering=np.random.rand(df_ts.shape[0]))\n",
    "    df_ts_rand = df_ts_rand.sort_values(by=\"random_ordering\")\n",
    "    df_ts_rand = df_ts_rand.assign(rand_rank=range(df_ts_rand.shape[0]))\n",
    "    df_ts_rand = df_ts_rand.sort_values(by=\"actual_rank\").head(10)\n",
    "    df_ts_rand = df_ts_rand.sort_values(by=\"rand_rank\")\n",
    "    \n",
    "    ts_rr_pred = []\n",
    "    for i in range(10):\n",
    "        rand_count = df_ts_rand.iloc[i][\"rand_rank\"] + 1\n",
    "        pred_count = df_ts_pred_head.iloc[i][\"pred_rank\"] + 1\n",
    "        ts_rr_pred.append(rand_count/pred_count)\n",
    "\n",
    "    ts_rr_all.append(ts_rr_pred)"
   ]
  },
  {
   "cell_type": "code",
   "execution_count": 73,
   "metadata": {},
   "outputs": [
    {
     "name": "stdout",
     "output_type": "stream",
     "text": [
      "[368.953      379.615      378.63533333 378.42125    268.29914286\n",
      " 204.71536364 109.53716667 120.40976    121.20478571  58.02123077]\n",
      "\n",
      "[345.68861825 230.95596718 173.88180761 144.58571631  84.11217961\n",
      "  53.26779219  23.83075687  21.01420497  16.11583109   5.30662878]\n"
     ]
    }
   ],
   "source": [
    "ts_rr_arr = np.array(ts_rr_all)\n",
    "ts_mean = np.mean(ts_rr_arr, axis=0)\n",
    "ts_std = np.std(ts_rr_all, axis=0)\n",
    "\n",
    "print(ts_mean)\n",
    "print()\n",
    "print(ts_std)"
   ]
  },
  {
   "cell_type": "code",
   "execution_count": 79,
   "metadata": {},
   "outputs": [],
   "source": [
    "reg_mean = [251.938,      251.1335,     190.98125,    206.684,      161.026,\n",
    " 171.19511111, 112.1881875,  108.48,       115.79445,     49.50586538,\n",
    "  33.26965882,  30.866,       29.90214286,   8.30059447,   1.8115164 ]\n",
    "\n",
    "reg_std = [2.30487054e+02, 1.62354413e+02, 9.36430074e+01, 8.41326775e+01,\n",
    " 5.65513855e+01, 5.34623311e+01, 3.07570276e+01, 2.59472072e+01,\n",
    " 2.49081149e+01, 9.38073379e+00, 5.38916854e+00, 4.33599167e+00, 3.54415625e+00, 7.62934138e-01, 1.12907134e-01]\n",
    "\n",
    "reg_mean_10 = reg_mean[:10]\n",
    "reg_std_10 = reg_std[:10]"
   ]
  },
  {
   "cell_type": "code",
   "execution_count": 92,
   "metadata": {},
   "outputs": [
    {
     "data": {
      "image/png": "[encoded data removed]",
      "text/plain": [
       "<Figure size 720x720 with 1 Axes>"
      ]
     },
     "metadata": {
      "needs_background": "light"
     },
     "output_type": "display_data"
    }
   ],
   "source": [
    "width = 0.44\n",
    "fig = plt.figure(figsize=(10,10))\n",
    "ax = plt.subplot(111)\n",
    "plt.bar(np.arange(10)+1-width/2, ts_mean, width, yerr=ts_std, capsize=5, label=\"Mixed\")\n",
    "plt.bar(np.arange(10)+1+width/2, reg_mean_10, width, yerr=reg_std_10, capsize=5, label=\"Regression\")\n",
    "plt.xlabel(\"Number of Strongest Binding Sites Found\")\n",
    "plt.ylabel(r\"Active Site Search Speedup Ratio\")\n",
    "ax.set_xticks(np.arange(10)+1)\n",
    "plt.legend()\n",
    "plt.savefig(\"RegressionSpeedupComparison.png\")"
   ]
  },
  {
   "cell_type": "code",
   "execution_count": 68,
   "metadata": {},
   "outputs": [
    {
     "name": "stdout",
     "output_type": "stream",
     "text": [
      "1218 2592\n"
     ]
    }
   ],
   "source": [
    "\n",
    "print(ts_rr.iloc[4], ts_rr.iloc[9])"
   ]
  },
  {
   "cell_type": "code",
   "execution_count": 71,
   "metadata": {},
   "outputs": [],
   "source": [
    "ts_rr_pred = []\n",
    "for i in range(15):\n",
    "    ts_rr_pred.append((ts_rr.iloc[i]+1)/(ts_pred.iloc[i]+1))"
   ]
  },
  {
   "cell_type": "code",
   "execution_count": 72,
   "metadata": {},
   "outputs": [
    {
     "data": {
      "text/plain": [
       "[194.0,\n",
       " 286.5,\n",
       " 204.5,\n",
       " 232.4,\n",
       " 152.375,\n",
       " 150.22222222222223,\n",
       " 146.5625,\n",
       " 127.10526315789474,\n",
       " 124.2,\n",
       " 49.86538461538461,\n",
       " 34.56470588235294,\n",
       " 30.76,\n",
       " 28.151785714285715,\n",
       " 7.988479262672811,\n",
       " 1.8809746954076851]"
      ]
     },
     "execution_count": 72,
     "metadata": {},
     "output_type": "execute_result"
    }
   ],
   "source": []
  },
  {
   "cell_type": "code",
   "execution_count": null,
   "metadata": {},
   "outputs": [],
   "source": [
    "# for each index in df_ts_best\n",
    "# "
   ]
  },
  {
   "cell_type": "code",
   "execution_count": 16,
   "metadata": {},
   "outputs": [
    {
     "name": "stdout",
     "output_type": "stream",
     "text": [
      "100 607\n",
      "100 101\n"
     ]
    }
   ],
   "source": [
    "l_O2, c_O2 = search_for_active_catalysts(df_ts, order_col=\"random_ordering\", feature_cols=feature_cols, find_num=100)\n",
    "print(len(l_O2), c_O2)\n",
    "l_t, c_t = search_for_active_catalysts(df_ts, order_col=\"Doesitbind_predproba\", feature_cols=feature_cols, find_num=100)\n",
    "print(len(l_t), c_t)"
   ]
  },
  {
   "cell_type": "code",
   "execution_count": null,
   "metadata": {},
   "outputs": [],
   "source": []
  },
  {
   "cell_type": "code",
   "execution_count": null,
   "metadata": {},
   "outputs": [],
   "source": []
  },
  {
   "cell_type": "code",
   "execution_count": null,
   "metadata": {},
   "outputs": [],
   "source": []
  },
  {
   "cell_type": "code",
   "execution_count": null,
   "metadata": {},
   "outputs": [],
   "source": []
  },
  {
   "cell_type": "code",
   "execution_count": null,
   "metadata": {},
   "outputs": [],
   "source": []
  },
  {
   "cell_type": "code",
   "execution_count": null,
   "metadata": {},
   "outputs": [],
   "source": []
  },
  {
   "cell_type": "code",
   "execution_count": null,
   "metadata": {},
   "outputs": [],
   "source": []
  },
  {
   "cell_type": "code",
   "execution_count": null,
   "metadata": {},
   "outputs": [],
   "source": []
  },
  {
   "cell_type": "code",
   "execution_count": null,
   "metadata": {},
   "outputs": [],
   "source": []
  },
  {
   "cell_type": "code",
   "execution_count": null,
   "metadata": {},
   "outputs": [],
   "source": []
  },
  {
   "cell_type": "code",
   "execution_count": null,
   "metadata": {},
   "outputs": [],
   "source": []
  },
  {
   "cell_type": "code",
   "execution_count": null,
   "metadata": {},
   "outputs": [],
   "source": []
  },
  {
   "cell_type": "code",
   "execution_count": null,
   "metadata": {},
   "outputs": [],
   "source": []
  },
  {
   "cell_type": "code",
   "execution_count": null,
   "metadata": {},
   "outputs": [],
   "source": []
  },
  {
   "cell_type": "code",
   "execution_count": null,
   "metadata": {},
   "outputs": [],
   "source": []
  }
 ],
 "metadata": {
  "kernelspec": {
   "display_name": "Python 3",
   "language": "python",
   "name": "python3"
  },
  "language_info": {
   "codemirror_mode": {
    "name": "ipython",
    "version": 3
   },
   "file_extension": ".py",
   "mimetype": "text/x-python",
   "name": "python",
   "nbconvert_exporter": "python",
   "pygments_lexer": "ipython3",
   "version": "3.8.5"
  }
 },
 "nbformat": 4,
 "nbformat_minor": 2
}
